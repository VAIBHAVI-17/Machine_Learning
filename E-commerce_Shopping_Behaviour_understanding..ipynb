{
 "cells": [
  {
   "cell_type": "code",
   "execution_count": 1,
   "id": "a1073c70",
   "metadata": {
    "_cell_guid": "b1076dfc-b9ad-4769-8c92-a6c4dae69d19",
    "_uuid": "8f2839f25d086af736a60e9eeb907d3b93b6e0e5",
    "execution": {
     "iopub.execute_input": "2023-03-31T19:07:43.374216Z",
     "iopub.status.busy": "2023-03-31T19:07:43.372996Z",
     "iopub.status.idle": "2023-03-31T19:07:43.393228Z",
     "shell.execute_reply": "2023-03-31T19:07:43.392074Z"
    },
    "papermill": {
     "duration": 0.049255,
     "end_time": "2023-03-31T19:07:43.396568",
     "exception": false,
     "start_time": "2023-03-31T19:07:43.347313",
     "status": "completed"
    },
    "tags": []
   },
   "outputs": [
    {
     "name": "stdout",
     "output_type": "stream",
     "text": [
      "/kaggle/input/e-commerce-shoppers-behaviour-understanding/test_data_v2.csv\n",
      "/kaggle/input/e-commerce-shoppers-behaviour-understanding/train_data_v2.csv\n",
      "/kaggle/input/e-commerce-shoppers-behaviour-understanding/sample.csv\n"
     ]
    }
   ],
   "source": [
    "# This Python 3 environment comes with many helpful analytics libraries installed\n",
    "# It is defined by the kaggle/python Docker image: https://github.com/kaggle/docker-python\n",
    "# For example, here's several helpful packages to load\n",
    "\n",
    "import numpy as np # linear algebra\n",
    "import pandas as pd # data processing, CSV file I/O (e.g. pd.read_csv)\n",
    "\n",
    "# Input data files are available in the read-only \"../input/\" directory\n",
    "# For example, running this (by clicking run or pressing Shift+Enter) will list all files under the input directory\n",
    "\n",
    "import os\n",
    "for dirname, _, filenames in os.walk('/kaggle/input'):\n",
    "    for filename in filenames:\n",
    "        print(os.path.join(dirname, filename))\n",
    "\n",
    "# You can write up to 20GB to the current directory (/kaggle/working/) that gets preserved as output when you create a version using \"Save & Run All\" \n",
    "# You can also write temporary files to /kaggle/temp/, but they won't be saved outside of the current session"
   ]
  },
  {
   "cell_type": "markdown",
   "id": "472aad33",
   "metadata": {
    "papermill": {
     "duration": 0.022513,
     "end_time": "2023-03-31T19:07:43.444782",
     "exception": false,
     "start_time": "2023-03-31T19:07:43.422269",
     "status": "completed"
    },
    "tags": []
   },
   "source": [
    "# Importing Necessary Libraries"
   ]
  },
  {
   "cell_type": "code",
   "execution_count": 2,
   "id": "b3d2cd3b",
   "metadata": {
    "execution": {
     "iopub.execute_input": "2023-03-31T19:07:43.491500Z",
     "iopub.status.busy": "2023-03-31T19:07:43.491067Z",
     "iopub.status.idle": "2023-03-31T19:07:45.217125Z",
     "shell.execute_reply": "2023-03-31T19:07:45.215931Z"
    },
    "papermill": {
     "duration": 1.752891,
     "end_time": "2023-03-31T19:07:45.220037",
     "exception": false,
     "start_time": "2023-03-31T19:07:43.467146",
     "status": "completed"
    },
    "tags": []
   },
   "outputs": [],
   "source": [
    "import numpy as np\n",
    "import pandas as pd\n",
    "import seaborn as sns\n",
    "import matplotlib.pyplot as plt\n",
    " \n",
    "\n",
    "\n",
    "from sklearn.impute import SimpleImputer\n",
    "from sklearn.preprocessing import StandardScaler\n",
    "from sklearn.preprocessing import OrdinalEncoder\n",
    "from sklearn.preprocessing import LabelEncoder\n",
    "from sklearn.preprocessing import OneHotEncoder\n",
    "from sklearn.model_selection import train_test_split\n",
    "from sklearn.linear_model import LogisticRegression\n",
    "from sklearn.metrics import f1_score\n",
    "from sklearn.metrics import accuracy_score\n",
    "from sklearn.metrics import ConfusionMatrixDisplay, classification_report\n",
    "from sklearn.model_selection import GridSearchCV\n",
    "from sklearn.feature_selection import SequentialFeatureSelector"
   ]
  },
  {
   "cell_type": "markdown",
   "id": "f400ac2a",
   "metadata": {
    "papermill": {
     "duration": 0.022239,
     "end_time": "2023-03-31T19:07:45.264907",
     "exception": false,
     "start_time": "2023-03-31T19:07:45.242668",
     "status": "completed"
    },
    "tags": []
   },
   "source": [
    "# Loading Train Dataset"
   ]
  },
  {
   "cell_type": "code",
   "execution_count": 3,
   "id": "17d64919",
   "metadata": {
    "execution": {
     "iopub.execute_input": "2023-03-31T19:07:45.312805Z",
     "iopub.status.busy": "2023-03-31T19:07:45.311812Z",
     "iopub.status.idle": "2023-03-31T19:07:45.488176Z",
     "shell.execute_reply": "2023-03-31T19:07:45.486760Z"
    },
    "papermill": {
     "duration": 0.20357,
     "end_time": "2023-03-31T19:07:45.491036",
     "exception": false,
     "start_time": "2023-03-31T19:07:45.287466",
     "status": "completed"
    },
    "tags": []
   },
   "outputs": [
    {
     "data": {
      "text/html": [
       "<div>\n",
       "<style scoped>\n",
       "    .dataframe tbody tr th:only-of-type {\n",
       "        vertical-align: middle;\n",
       "    }\n",
       "\n",
       "    .dataframe tbody tr th {\n",
       "        vertical-align: top;\n",
       "    }\n",
       "\n",
       "    .dataframe thead th {\n",
       "        text-align: right;\n",
       "    }\n",
       "</style>\n",
       "<table border=\"1\" class=\"dataframe\">\n",
       "  <thead>\n",
       "    <tr style=\"text-align: right;\">\n",
       "      <th></th>\n",
       "      <th>HomePage</th>\n",
       "      <th>HomePage_Duration</th>\n",
       "      <th>LandingPage</th>\n",
       "      <th>LandingPage_Duration</th>\n",
       "      <th>ProductDescriptionPage</th>\n",
       "      <th>ProductDescriptionPage_Duration</th>\n",
       "      <th>GoogleMetric:Bounce Rates</th>\n",
       "      <th>GoogleMetric:Exit Rates</th>\n",
       "      <th>GoogleMetric:Page Values</th>\n",
       "      <th>SeasonalPurchase</th>\n",
       "      <th>...</th>\n",
       "      <th>SearchEngine</th>\n",
       "      <th>Zone</th>\n",
       "      <th>Type of Traffic</th>\n",
       "      <th>CustomerType</th>\n",
       "      <th>Gender</th>\n",
       "      <th>Cookies Setting</th>\n",
       "      <th>Education</th>\n",
       "      <th>Marital Status</th>\n",
       "      <th>WeekendPurchase</th>\n",
       "      <th>Made_Purchase</th>\n",
       "    </tr>\n",
       "  </thead>\n",
       "  <tbody>\n",
       "    <tr>\n",
       "      <th>0</th>\n",
       "      <td>0.0</td>\n",
       "      <td>0.0</td>\n",
       "      <td>0.0</td>\n",
       "      <td>0.0</td>\n",
       "      <td>1.0</td>\n",
       "      <td>0.000000</td>\n",
       "      <td>0.20</td>\n",
       "      <td>0.20</td>\n",
       "      <td>0.0</td>\n",
       "      <td>0.0</td>\n",
       "      <td>...</td>\n",
       "      <td>1.0</td>\n",
       "      <td>9.0</td>\n",
       "      <td>3.0</td>\n",
       "      <td>Returning_Visitor</td>\n",
       "      <td>Not Specified</td>\n",
       "      <td>Deny</td>\n",
       "      <td>Not Specified</td>\n",
       "      <td>Other</td>\n",
       "      <td>0.0</td>\n",
       "      <td>False</td>\n",
       "    </tr>\n",
       "    <tr>\n",
       "      <th>1</th>\n",
       "      <td>0.0</td>\n",
       "      <td>0.0</td>\n",
       "      <td>0.0</td>\n",
       "      <td>0.0</td>\n",
       "      <td>2.0</td>\n",
       "      <td>2.666667</td>\n",
       "      <td>0.05</td>\n",
       "      <td>0.14</td>\n",
       "      <td>0.0</td>\n",
       "      <td>0.0</td>\n",
       "      <td>...</td>\n",
       "      <td>2.0</td>\n",
       "      <td>2.0</td>\n",
       "      <td>4.0</td>\n",
       "      <td>Returning_Visitor</td>\n",
       "      <td>Female</td>\n",
       "      <td>Deny</td>\n",
       "      <td>Others</td>\n",
       "      <td>Married</td>\n",
       "      <td>0.0</td>\n",
       "      <td>False</td>\n",
       "    </tr>\n",
       "    <tr>\n",
       "      <th>2</th>\n",
       "      <td>0.0</td>\n",
       "      <td>0.0</td>\n",
       "      <td>0.0</td>\n",
       "      <td>0.0</td>\n",
       "      <td>10.0</td>\n",
       "      <td>627.500000</td>\n",
       "      <td>0.02</td>\n",
       "      <td>0.05</td>\n",
       "      <td>0.0</td>\n",
       "      <td>0.0</td>\n",
       "      <td>...</td>\n",
       "      <td>3.0</td>\n",
       "      <td>1.0</td>\n",
       "      <td>4.0</td>\n",
       "      <td>Returning_Visitor</td>\n",
       "      <td>Female</td>\n",
       "      <td>ALL</td>\n",
       "      <td>Others</td>\n",
       "      <td>Married</td>\n",
       "      <td>1.0</td>\n",
       "      <td>False</td>\n",
       "    </tr>\n",
       "    <tr>\n",
       "      <th>3</th>\n",
       "      <td>0.0</td>\n",
       "      <td>0.0</td>\n",
       "      <td>0.0</td>\n",
       "      <td>0.0</td>\n",
       "      <td>1.0</td>\n",
       "      <td>0.000000</td>\n",
       "      <td>0.20</td>\n",
       "      <td>0.20</td>\n",
       "      <td>0.0</td>\n",
       "      <td>0.4</td>\n",
       "      <td>...</td>\n",
       "      <td>4.0</td>\n",
       "      <td>3.0</td>\n",
       "      <td>3.0</td>\n",
       "      <td>Returning_Visitor</td>\n",
       "      <td>Male</td>\n",
       "      <td>ALL</td>\n",
       "      <td>Diploma</td>\n",
       "      <td>Single</td>\n",
       "      <td>0.0</td>\n",
       "      <td>False</td>\n",
       "    </tr>\n",
       "    <tr>\n",
       "      <th>4</th>\n",
       "      <td>1.0</td>\n",
       "      <td>0.0</td>\n",
       "      <td>0.0</td>\n",
       "      <td>0.0</td>\n",
       "      <td>0.0</td>\n",
       "      <td>0.000000</td>\n",
       "      <td>0.20</td>\n",
       "      <td>0.20</td>\n",
       "      <td>0.0</td>\n",
       "      <td>0.0</td>\n",
       "      <td>...</td>\n",
       "      <td>2.0</td>\n",
       "      <td>1.0</td>\n",
       "      <td>5.0</td>\n",
       "      <td>Returning_Visitor</td>\n",
       "      <td>Male</td>\n",
       "      <td>Deny</td>\n",
       "      <td>Diploma</td>\n",
       "      <td>Other</td>\n",
       "      <td>1.0</td>\n",
       "      <td>False</td>\n",
       "    </tr>\n",
       "  </tbody>\n",
       "</table>\n",
       "<p>5 rows × 22 columns</p>\n",
       "</div>"
      ],
      "text/plain": [
       "   HomePage  HomePage_Duration  LandingPage  LandingPage_Duration  \\\n",
       "0       0.0                0.0          0.0                   0.0   \n",
       "1       0.0                0.0          0.0                   0.0   \n",
       "2       0.0                0.0          0.0                   0.0   \n",
       "3       0.0                0.0          0.0                   0.0   \n",
       "4       1.0                0.0          0.0                   0.0   \n",
       "\n",
       "   ProductDescriptionPage  ProductDescriptionPage_Duration  \\\n",
       "0                     1.0                         0.000000   \n",
       "1                     2.0                         2.666667   \n",
       "2                    10.0                       627.500000   \n",
       "3                     1.0                         0.000000   \n",
       "4                     0.0                         0.000000   \n",
       "\n",
       "   GoogleMetric:Bounce Rates  GoogleMetric:Exit Rates  \\\n",
       "0                       0.20                     0.20   \n",
       "1                       0.05                     0.14   \n",
       "2                       0.02                     0.05   \n",
       "3                       0.20                     0.20   \n",
       "4                       0.20                     0.20   \n",
       "\n",
       "   GoogleMetric:Page Values  SeasonalPurchase  ... SearchEngine  Zone  \\\n",
       "0                       0.0               0.0  ...          1.0   9.0   \n",
       "1                       0.0               0.0  ...          2.0   2.0   \n",
       "2                       0.0               0.0  ...          3.0   1.0   \n",
       "3                       0.0               0.4  ...          4.0   3.0   \n",
       "4                       0.0               0.0  ...          2.0   1.0   \n",
       "\n",
       "   Type of Traffic       CustomerType         Gender Cookies Setting  \\\n",
       "0              3.0  Returning_Visitor  Not Specified            Deny   \n",
       "1              4.0  Returning_Visitor         Female            Deny   \n",
       "2              4.0  Returning_Visitor         Female             ALL   \n",
       "3              3.0  Returning_Visitor           Male             ALL   \n",
       "4              5.0  Returning_Visitor           Male            Deny   \n",
       "\n",
       "       Education Marital Status WeekendPurchase Made_Purchase  \n",
       "0  Not Specified          Other             0.0         False  \n",
       "1         Others        Married             0.0         False  \n",
       "2         Others        Married             1.0         False  \n",
       "3        Diploma         Single             0.0         False  \n",
       "4        Diploma          Other             1.0         False  \n",
       "\n",
       "[5 rows x 22 columns]"
      ]
     },
     "execution_count": 3,
     "metadata": {},
     "output_type": "execute_result"
    }
   ],
   "source": [
    "Data=pd.read_csv('/kaggle/input/e-commerce-shoppers-behaviour-understanding/train_data_v2.csv')\n",
    "Data.head()"
   ]
  },
  {
   "cell_type": "code",
   "execution_count": 4,
   "id": "239542c4",
   "metadata": {
    "execution": {
     "iopub.execute_input": "2023-03-31T19:07:45.539070Z",
     "iopub.status.busy": "2023-03-31T19:07:45.538171Z",
     "iopub.status.idle": "2023-03-31T19:07:45.545745Z",
     "shell.execute_reply": "2023-03-31T19:07:45.544749Z"
    },
    "papermill": {
     "duration": 0.034439,
     "end_time": "2023-03-31T19:07:45.548316",
     "exception": false,
     "start_time": "2023-03-31T19:07:45.513877",
     "status": "completed"
    },
    "tags": []
   },
   "outputs": [
    {
     "data": {
      "text/plain": [
       "pandas.core.frame.DataFrame"
      ]
     },
     "execution_count": 4,
     "metadata": {},
     "output_type": "execute_result"
    }
   ],
   "source": [
    "type(Data)"
   ]
  },
  {
   "cell_type": "markdown",
   "id": "fb65796a",
   "metadata": {
    "papermill": {
     "duration": 0.022518,
     "end_time": "2023-03-31T19:07:45.593368",
     "exception": false,
     "start_time": "2023-03-31T19:07:45.570850",
     "status": "completed"
    },
    "tags": []
   },
   "source": [
    "<!-- ******************************************Preprocessing*********************************************  -->"
   ]
  },
  {
   "cell_type": "markdown",
   "id": "633aa35b",
   "metadata": {
    "papermill": {
     "duration": 0.022437,
     "end_time": "2023-03-31T19:07:45.638845",
     "exception": false,
     "start_time": "2023-03-31T19:07:45.616408",
     "status": "completed"
    },
    "tags": []
   },
   "source": [
    "**Preprocessing Starts**"
   ]
  },
  {
   "cell_type": "code",
   "execution_count": 5,
   "id": "07b46bf7",
   "metadata": {
    "execution": {
     "iopub.execute_input": "2023-03-31T19:07:45.686112Z",
     "iopub.status.busy": "2023-03-31T19:07:45.685693Z",
     "iopub.status.idle": "2023-03-31T19:07:45.720195Z",
     "shell.execute_reply": "2023-03-31T19:07:45.718820Z"
    },
    "papermill": {
     "duration": 0.061485,
     "end_time": "2023-03-31T19:07:45.723152",
     "exception": false,
     "start_time": "2023-03-31T19:07:45.661667",
     "status": "completed"
    },
    "tags": []
   },
   "outputs": [
    {
     "name": "stdout",
     "output_type": "stream",
     "text": [
      "<class 'pandas.core.frame.DataFrame'>\n",
      "RangeIndex: 14731 entries, 0 to 14730\n",
      "Data columns (total 22 columns):\n",
      " #   Column                           Non-Null Count  Dtype  \n",
      "---  ------                           --------------  -----  \n",
      " 0   HomePage                         14578 non-null  float64\n",
      " 1   HomePage_Duration                14581 non-null  float64\n",
      " 2   LandingPage                      14578 non-null  float64\n",
      " 3   LandingPage_Duration             14596 non-null  float64\n",
      " 4   ProductDescriptionPage           14608 non-null  float64\n",
      " 5   ProductDescriptionPage_Duration  14564 non-null  float64\n",
      " 6   GoogleMetric:Bounce Rates        14580 non-null  float64\n",
      " 7   GoogleMetric:Exit Rates          14602 non-null  float64\n",
      " 8   GoogleMetric:Page Values         14599 non-null  float64\n",
      " 9   SeasonalPurchase                 14581 non-null  float64\n",
      " 10  Month_SeasonalPurchase           14587 non-null  object \n",
      " 11  OS                               14597 non-null  float64\n",
      " 12  SearchEngine                     14609 non-null  float64\n",
      " 13  Zone                             14614 non-null  float64\n",
      " 14  Type of Traffic                  14588 non-null  float64\n",
      " 15  CustomerType                     14587 non-null  object \n",
      " 16  Gender                           14586 non-null  object \n",
      " 17  Cookies Setting                  14587 non-null  object \n",
      " 18  Education                        14595 non-null  object \n",
      " 19  Marital Status                   14601 non-null  object \n",
      " 20  WeekendPurchase                  14610 non-null  float64\n",
      " 21  Made_Purchase                    14731 non-null  bool   \n",
      "dtypes: bool(1), float64(15), object(6)\n",
      "memory usage: 2.4+ MB\n"
     ]
    }
   ],
   "source": [
    "Data.info()"
   ]
  },
  {
   "cell_type": "markdown",
   "id": "f9b22c92",
   "metadata": {
    "papermill": {
     "duration": 0.02343,
     "end_time": "2023-03-31T19:07:45.770672",
     "exception": false,
     "start_time": "2023-03-31T19:07:45.747242",
     "status": "completed"
    },
    "tags": []
   },
   "source": [
    "# Getting unique values for Categorical Columns of Train Data"
   ]
  },
  {
   "cell_type": "code",
   "execution_count": 6,
   "id": "1a8553a7",
   "metadata": {
    "execution": {
     "iopub.execute_input": "2023-03-31T19:07:45.818961Z",
     "iopub.status.busy": "2023-03-31T19:07:45.818552Z",
     "iopub.status.idle": "2023-03-31T19:07:45.835199Z",
     "shell.execute_reply": "2023-03-31T19:07:45.833822Z"
    },
    "papermill": {
     "duration": 0.043827,
     "end_time": "2023-03-31T19:07:45.837941",
     "exception": false,
     "start_time": "2023-03-31T19:07:45.794114",
     "status": "completed"
    },
    "tags": []
   },
   "outputs": [
    {
     "name": "stdout",
     "output_type": "stream",
     "text": [
      "number of unique values in Month_SeasonalPurchase: ['Feb' 'Mar' 'May' 'Oct' 'June' 'Jul' 'Aug' 'Nov' 'Sep' 'Dec' nan]\n",
      "number of unique values in customer type: ['Returning_Visitor' 'New_Visitor' 'Other' nan]\n",
      "number of unique values in Gender: ['Not Specified' 'Female' 'Male' nan]\n",
      "number of unique values in Cookies Setting: ['Deny' 'ALL' 'Required' nan]\n",
      "number of unique values in Education: ['Not Specified' 'Others' 'Diploma' 'Graduate' nan]\n",
      "number of unique values in Marital Status: ['Other' 'Married' 'Single' nan]\n",
      "number of unique values in Make Purchase: [False  True]\n"
     ]
    }
   ],
   "source": [
    "print('number of unique values in Month_SeasonalPurchase:',Data['Month_SeasonalPurchase'].unique())\n",
    "print('number of unique values in customer type:',Data['CustomerType'].unique())\n",
    "print('number of unique values in Gender:',Data['Gender'].unique())\n",
    "print('number of unique values in Cookies Setting:',Data['Cookies Setting'].unique())\n",
    "print('number of unique values in Education:',Data['Education'].unique())\n",
    "print('number of unique values in Marital Status:',Data['Marital Status'].unique())\n",
    "print('number of unique values in Make Purchase:',Data['Made_Purchase'].unique())"
   ]
  },
  {
   "cell_type": "markdown",
   "id": "c3f1325b",
   "metadata": {
    "papermill": {
     "duration": 0.023622,
     "end_time": "2023-03-31T19:07:45.884710",
     "exception": false,
     "start_time": "2023-03-31T19:07:45.861088",
     "status": "completed"
    },
    "tags": []
   },
   "source": [
    "# Checking Null Values of Train Data"
   ]
  },
  {
   "cell_type": "code",
   "execution_count": 7,
   "id": "6ac8385e",
   "metadata": {
    "execution": {
     "iopub.execute_input": "2023-03-31T19:07:45.934356Z",
     "iopub.status.busy": "2023-03-31T19:07:45.933905Z",
     "iopub.status.idle": "2023-03-31T19:07:45.950444Z",
     "shell.execute_reply": "2023-03-31T19:07:45.949008Z"
    },
    "papermill": {
     "duration": 0.044924,
     "end_time": "2023-03-31T19:07:45.953431",
     "exception": false,
     "start_time": "2023-03-31T19:07:45.908507",
     "status": "completed"
    },
    "tags": []
   },
   "outputs": [
    {
     "data": {
      "text/plain": [
       "HomePage                           153\n",
       "HomePage_Duration                  150\n",
       "LandingPage                        153\n",
       "LandingPage_Duration               135\n",
       "ProductDescriptionPage             123\n",
       "ProductDescriptionPage_Duration    167\n",
       "GoogleMetric:Bounce Rates          151\n",
       "GoogleMetric:Exit Rates            129\n",
       "GoogleMetric:Page Values           132\n",
       "SeasonalPurchase                   150\n",
       "Month_SeasonalPurchase             144\n",
       "OS                                 134\n",
       "SearchEngine                       122\n",
       "Zone                               117\n",
       "Type of Traffic                    143\n",
       "CustomerType                       144\n",
       "Gender                             145\n",
       "Cookies Setting                    144\n",
       "Education                          136\n",
       "Marital Status                     130\n",
       "WeekendPurchase                    121\n",
       "Made_Purchase                        0\n",
       "dtype: int64"
      ]
     },
     "execution_count": 7,
     "metadata": {},
     "output_type": "execute_result"
    }
   ],
   "source": [
    "Data.isnull().sum()"
   ]
  },
  {
   "cell_type": "markdown",
   "id": "09e903dd",
   "metadata": {
    "papermill": {
     "duration": 0.024097,
     "end_time": "2023-03-31T19:07:46.001556",
     "exception": false,
     "start_time": "2023-03-31T19:07:45.977459",
     "status": "completed"
    },
    "tags": []
   },
   "source": [
    "# Replacing Null Values of Train Data"
   ]
  },
  {
   "cell_type": "code",
   "execution_count": 8,
   "id": "8b6fa1e6",
   "metadata": {
    "execution": {
     "iopub.execute_input": "2023-03-31T19:07:46.050860Z",
     "iopub.status.busy": "2023-03-31T19:07:46.050471Z",
     "iopub.status.idle": "2023-03-31T19:07:46.068898Z",
     "shell.execute_reply": "2023-03-31T19:07:46.067573Z"
    },
    "papermill": {
     "duration": 0.046249,
     "end_time": "2023-03-31T19:07:46.071823",
     "exception": false,
     "start_time": "2023-03-31T19:07:46.025574",
     "status": "completed"
    },
    "tags": []
   },
   "outputs": [
    {
     "data": {
      "text/plain": [
       "HomePage                           153\n",
       "HomePage_Duration                  150\n",
       "LandingPage                        153\n",
       "LandingPage_Duration               135\n",
       "ProductDescriptionPage             123\n",
       "ProductDescriptionPage_Duration    167\n",
       "GoogleMetric:Bounce Rates          151\n",
       "GoogleMetric:Exit Rates            129\n",
       "GoogleMetric:Page Values           132\n",
       "SeasonalPurchase                   150\n",
       "Month_SeasonalPurchase             144\n",
       "OS                                 134\n",
       "SearchEngine                       122\n",
       "Zone                               117\n",
       "Type of Traffic                    143\n",
       "CustomerType                       144\n",
       "Gender                             145\n",
       "Cookies Setting                    144\n",
       "Education                          136\n",
       "Marital Status                     130\n",
       "WeekendPurchase                    121\n",
       "Made_Purchase                        0\n",
       "dtype: int64"
      ]
     },
     "execution_count": 8,
     "metadata": {},
     "output_type": "execute_result"
    }
   ],
   "source": [
    "Data.replace('?', np.nan, inplace=True)\n",
    "Data.isnull().sum()"
   ]
  },
  {
   "cell_type": "code",
   "execution_count": 9,
   "id": "4b108596",
   "metadata": {
    "execution": {
     "iopub.execute_input": "2023-03-31T19:07:46.121951Z",
     "iopub.status.busy": "2023-03-31T19:07:46.121523Z",
     "iopub.status.idle": "2023-03-31T19:07:46.153396Z",
     "shell.execute_reply": "2023-03-31T19:07:46.152416Z"
    },
    "papermill": {
     "duration": 0.058918,
     "end_time": "2023-03-31T19:07:46.155542",
     "exception": false,
     "start_time": "2023-03-31T19:07:46.096624",
     "status": "completed"
    },
    "tags": []
   },
   "outputs": [
    {
     "data": {
      "text/html": [
       "<div>\n",
       "<style scoped>\n",
       "    .dataframe tbody tr th:only-of-type {\n",
       "        vertical-align: middle;\n",
       "    }\n",
       "\n",
       "    .dataframe tbody tr th {\n",
       "        vertical-align: top;\n",
       "    }\n",
       "\n",
       "    .dataframe thead th {\n",
       "        text-align: right;\n",
       "    }\n",
       "</style>\n",
       "<table border=\"1\" class=\"dataframe\">\n",
       "  <thead>\n",
       "    <tr style=\"text-align: right;\">\n",
       "      <th></th>\n",
       "      <th>HomePage</th>\n",
       "      <th>HomePage_Duration</th>\n",
       "      <th>LandingPage</th>\n",
       "      <th>LandingPage_Duration</th>\n",
       "      <th>ProductDescriptionPage</th>\n",
       "      <th>ProductDescriptionPage_Duration</th>\n",
       "      <th>GoogleMetric:Bounce Rates</th>\n",
       "      <th>GoogleMetric:Exit Rates</th>\n",
       "      <th>GoogleMetric:Page Values</th>\n",
       "      <th>SeasonalPurchase</th>\n",
       "      <th>...</th>\n",
       "      <th>SearchEngine</th>\n",
       "      <th>Zone</th>\n",
       "      <th>Type of Traffic</th>\n",
       "      <th>CustomerType</th>\n",
       "      <th>Gender</th>\n",
       "      <th>Cookies Setting</th>\n",
       "      <th>Education</th>\n",
       "      <th>Marital Status</th>\n",
       "      <th>WeekendPurchase</th>\n",
       "      <th>Made_Purchase</th>\n",
       "    </tr>\n",
       "  </thead>\n",
       "  <tbody>\n",
       "    <tr>\n",
       "      <th>0</th>\n",
       "      <td>0.0</td>\n",
       "      <td>0.0</td>\n",
       "      <td>0.0</td>\n",
       "      <td>0.0</td>\n",
       "      <td>1.0</td>\n",
       "      <td>0.000000</td>\n",
       "      <td>0.20</td>\n",
       "      <td>0.20</td>\n",
       "      <td>0.0</td>\n",
       "      <td>0.0</td>\n",
       "      <td>...</td>\n",
       "      <td>1.0</td>\n",
       "      <td>9.0</td>\n",
       "      <td>3.0</td>\n",
       "      <td>Returning_Visitor</td>\n",
       "      <td>Not Specified</td>\n",
       "      <td>Deny</td>\n",
       "      <td>Not Specified</td>\n",
       "      <td>Other</td>\n",
       "      <td>0.0</td>\n",
       "      <td>False</td>\n",
       "    </tr>\n",
       "    <tr>\n",
       "      <th>1</th>\n",
       "      <td>0.0</td>\n",
       "      <td>0.0</td>\n",
       "      <td>0.0</td>\n",
       "      <td>0.0</td>\n",
       "      <td>2.0</td>\n",
       "      <td>2.666667</td>\n",
       "      <td>0.05</td>\n",
       "      <td>0.14</td>\n",
       "      <td>0.0</td>\n",
       "      <td>0.0</td>\n",
       "      <td>...</td>\n",
       "      <td>2.0</td>\n",
       "      <td>2.0</td>\n",
       "      <td>4.0</td>\n",
       "      <td>Returning_Visitor</td>\n",
       "      <td>Female</td>\n",
       "      <td>Deny</td>\n",
       "      <td>Others</td>\n",
       "      <td>Married</td>\n",
       "      <td>0.0</td>\n",
       "      <td>False</td>\n",
       "    </tr>\n",
       "    <tr>\n",
       "      <th>2</th>\n",
       "      <td>0.0</td>\n",
       "      <td>0.0</td>\n",
       "      <td>0.0</td>\n",
       "      <td>0.0</td>\n",
       "      <td>10.0</td>\n",
       "      <td>627.500000</td>\n",
       "      <td>0.02</td>\n",
       "      <td>0.05</td>\n",
       "      <td>0.0</td>\n",
       "      <td>0.0</td>\n",
       "      <td>...</td>\n",
       "      <td>3.0</td>\n",
       "      <td>1.0</td>\n",
       "      <td>4.0</td>\n",
       "      <td>Returning_Visitor</td>\n",
       "      <td>Female</td>\n",
       "      <td>ALL</td>\n",
       "      <td>Others</td>\n",
       "      <td>Married</td>\n",
       "      <td>1.0</td>\n",
       "      <td>False</td>\n",
       "    </tr>\n",
       "    <tr>\n",
       "      <th>3</th>\n",
       "      <td>0.0</td>\n",
       "      <td>0.0</td>\n",
       "      <td>0.0</td>\n",
       "      <td>0.0</td>\n",
       "      <td>1.0</td>\n",
       "      <td>0.000000</td>\n",
       "      <td>0.20</td>\n",
       "      <td>0.20</td>\n",
       "      <td>0.0</td>\n",
       "      <td>0.4</td>\n",
       "      <td>...</td>\n",
       "      <td>4.0</td>\n",
       "      <td>3.0</td>\n",
       "      <td>3.0</td>\n",
       "      <td>Returning_Visitor</td>\n",
       "      <td>Male</td>\n",
       "      <td>ALL</td>\n",
       "      <td>Diploma</td>\n",
       "      <td>Single</td>\n",
       "      <td>0.0</td>\n",
       "      <td>False</td>\n",
       "    </tr>\n",
       "    <tr>\n",
       "      <th>4</th>\n",
       "      <td>1.0</td>\n",
       "      <td>0.0</td>\n",
       "      <td>0.0</td>\n",
       "      <td>0.0</td>\n",
       "      <td>0.0</td>\n",
       "      <td>0.000000</td>\n",
       "      <td>0.20</td>\n",
       "      <td>0.20</td>\n",
       "      <td>0.0</td>\n",
       "      <td>0.0</td>\n",
       "      <td>...</td>\n",
       "      <td>2.0</td>\n",
       "      <td>1.0</td>\n",
       "      <td>5.0</td>\n",
       "      <td>Returning_Visitor</td>\n",
       "      <td>Male</td>\n",
       "      <td>Deny</td>\n",
       "      <td>Diploma</td>\n",
       "      <td>Other</td>\n",
       "      <td>1.0</td>\n",
       "      <td>False</td>\n",
       "    </tr>\n",
       "  </tbody>\n",
       "</table>\n",
       "<p>5 rows × 22 columns</p>\n",
       "</div>"
      ],
      "text/plain": [
       "   HomePage  HomePage_Duration  LandingPage  LandingPage_Duration  \\\n",
       "0       0.0                0.0          0.0                   0.0   \n",
       "1       0.0                0.0          0.0                   0.0   \n",
       "2       0.0                0.0          0.0                   0.0   \n",
       "3       0.0                0.0          0.0                   0.0   \n",
       "4       1.0                0.0          0.0                   0.0   \n",
       "\n",
       "   ProductDescriptionPage  ProductDescriptionPage_Duration  \\\n",
       "0                     1.0                         0.000000   \n",
       "1                     2.0                         2.666667   \n",
       "2                    10.0                       627.500000   \n",
       "3                     1.0                         0.000000   \n",
       "4                     0.0                         0.000000   \n",
       "\n",
       "   GoogleMetric:Bounce Rates  GoogleMetric:Exit Rates  \\\n",
       "0                       0.20                     0.20   \n",
       "1                       0.05                     0.14   \n",
       "2                       0.02                     0.05   \n",
       "3                       0.20                     0.20   \n",
       "4                       0.20                     0.20   \n",
       "\n",
       "   GoogleMetric:Page Values  SeasonalPurchase  ... SearchEngine  Zone  \\\n",
       "0                       0.0               0.0  ...          1.0   9.0   \n",
       "1                       0.0               0.0  ...          2.0   2.0   \n",
       "2                       0.0               0.0  ...          3.0   1.0   \n",
       "3                       0.0               0.4  ...          4.0   3.0   \n",
       "4                       0.0               0.0  ...          2.0   1.0   \n",
       "\n",
       "   Type of Traffic       CustomerType         Gender Cookies Setting  \\\n",
       "0              3.0  Returning_Visitor  Not Specified            Deny   \n",
       "1              4.0  Returning_Visitor         Female            Deny   \n",
       "2              4.0  Returning_Visitor         Female             ALL   \n",
       "3              3.0  Returning_Visitor           Male             ALL   \n",
       "4              5.0  Returning_Visitor           Male            Deny   \n",
       "\n",
       "       Education Marital Status WeekendPurchase Made_Purchase  \n",
       "0  Not Specified          Other             0.0         False  \n",
       "1         Others        Married             0.0         False  \n",
       "2         Others        Married             1.0         False  \n",
       "3        Diploma         Single             0.0         False  \n",
       "4        Diploma          Other             1.0         False  \n",
       "\n",
       "[5 rows x 22 columns]"
      ]
     },
     "execution_count": 9,
     "metadata": {},
     "output_type": "execute_result"
    }
   ],
   "source": [
    "Data.head()"
   ]
  },
  {
   "cell_type": "markdown",
   "id": "2780df26",
   "metadata": {
    "papermill": {
     "duration": 0.023889,
     "end_time": "2023-03-31T19:07:46.202951",
     "exception": false,
     "start_time": "2023-03-31T19:07:46.179062",
     "status": "completed"
    },
    "tags": []
   },
   "source": [
    "# Visualisation of Dataset"
   ]
  },
  {
   "cell_type": "code",
   "execution_count": 10,
   "id": "caf514cd",
   "metadata": {
    "execution": {
     "iopub.execute_input": "2023-03-31T19:07:46.254106Z",
     "iopub.status.busy": "2023-03-31T19:07:46.252604Z",
     "iopub.status.idle": "2023-03-31T19:07:46.527485Z",
     "shell.execute_reply": "2023-03-31T19:07:46.526200Z"
    },
    "papermill": {
     "duration": 0.303521,
     "end_time": "2023-03-31T19:07:46.530261",
     "exception": false,
     "start_time": "2023-03-31T19:07:46.226740",
     "status": "completed"
    },
    "tags": []
   },
   "outputs": [
    {
     "data": {
      "image/png": "[encoded data removed]",
      "text/plain": [
       "<Figure size 640x480 with 1 Axes>"
      ]
     },
     "metadata": {},
     "output_type": "display_data"
    }
   ],
   "source": [
    "sns.countplot(data=Data, x='Gender', hue='Made_Purchase')\n",
    "plt.show()"
   ]
  },
  {
   "cell_type": "code",
   "execution_count": 11,
   "id": "e112fda8",
   "metadata": {
    "execution": {
     "iopub.execute_input": "2023-03-31T19:07:46.581001Z",
     "iopub.status.busy": "2023-03-31T19:07:46.580500Z",
     "iopub.status.idle": "2023-03-31T19:07:46.831248Z",
     "shell.execute_reply": "2023-03-31T19:07:46.829498Z"
    },
    "papermill": {
     "duration": 0.279742,
     "end_time": "2023-03-31T19:07:46.834254",
     "exception": false,
     "start_time": "2023-03-31T19:07:46.554512",
     "status": "completed"
    },
    "tags": []
   },
   "outputs": [
    {
     "data": {
      "image/png": "[encoded data removed]",
      "text/plain": [
       "<Figure size 640x480 with 1 Axes>"
      ]
     },
     "metadata": {},
     "output_type": "display_data"
    }
   ],
   "source": [
    "sns.countplot(data=Data, x='CustomerType', hue='Made_Purchase', color='g')\n",
    "plt.show()"
   ]
  },
  {
   "cell_type": "code",
   "execution_count": 12,
   "id": "683c02ba",
   "metadata": {
    "execution": {
     "iopub.execute_input": "2023-03-31T19:07:46.887999Z",
     "iopub.status.busy": "2023-03-31T19:07:46.887497Z",
     "iopub.status.idle": "2023-03-31T19:07:47.138787Z",
     "shell.execute_reply": "2023-03-31T19:07:47.137894Z"
    },
    "papermill": {
     "duration": 0.281554,
     "end_time": "2023-03-31T19:07:47.141290",
     "exception": false,
     "start_time": "2023-03-31T19:07:46.859736",
     "status": "completed"
    },
    "tags": []
   },
   "outputs": [
    {
     "data": {
      "image/png": "[encoded data removed]",
      "text/plain": [
       "<Figure size 640x480 with 1 Axes>"
      ]
     },
     "metadata": {},
     "output_type": "display_data"
    }
   ],
   "source": [
    "sns.countplot(data=Data, x='Education', hue='Made_Purchase', color='r')\n",
    "plt.show()"
   ]
  },
  {
   "cell_type": "code",
   "execution_count": 13,
   "id": "c425eca8",
   "metadata": {
    "execution": {
     "iopub.execute_input": "2023-03-31T19:07:47.194130Z",
     "iopub.status.busy": "2023-03-31T19:07:47.193260Z",
     "iopub.status.idle": "2023-03-31T19:07:47.449101Z",
     "shell.execute_reply": "2023-03-31T19:07:47.447857Z"
    },
    "papermill": {
     "duration": 0.285232,
     "end_time": "2023-03-31T19:07:47.451690",
     "exception": false,
     "start_time": "2023-03-31T19:07:47.166458",
     "status": "completed"
    },
    "tags": []
   },
   "outputs": [
    {
     "data": {
      "image/png": "[encoded data removed]",
      "text/plain": [
       "<Figure size 640x480 with 1 Axes>"
      ]
     },
     "metadata": {},
     "output_type": "display_data"
    }
   ],
   "source": [
    "sns.countplot(data=Data, x='Marital Status', hue='Made_Purchase')\n",
    "plt.show()"
   ]
  },
  {
   "cell_type": "markdown",
   "id": "0fe102aa",
   "metadata": {
    "papermill": {
     "duration": 0.025039,
     "end_time": "2023-03-31T19:07:47.502256",
     "exception": false,
     "start_time": "2023-03-31T19:07:47.477217",
     "status": "completed"
    },
    "tags": []
   },
   "source": [
    "# Histogram Plot"
   ]
  },
  {
   "cell_type": "code",
   "execution_count": 14,
   "id": "dfba0973",
   "metadata": {
    "execution": {
     "iopub.execute_input": "2023-03-31T19:07:47.556790Z",
     "iopub.status.busy": "2023-03-31T19:07:47.555939Z",
     "iopub.status.idle": "2023-03-31T19:07:50.729513Z",
     "shell.execute_reply": "2023-03-31T19:07:50.728448Z"
    },
    "papermill": {
     "duration": 3.204755,
     "end_time": "2023-03-31T19:07:50.732890",
     "exception": false,
     "start_time": "2023-03-31T19:07:47.528135",
     "status": "completed"
    },
    "tags": []
   },
   "outputs": [
    {
     "data": {
      "image/png": "[encoded data removed]",
      "text/plain": [
       "<Figure size 1500x1500 with 16 Axes>"
      ]
     },
     "metadata": {},
     "output_type": "display_data"
    }
   ],
   "source": [
    "Data.hist(bins=50, figsize=(15,15))\n",
    "plt.show()"
   ]
  },
  {
   "cell_type": "markdown",
   "id": "2b170bb2",
   "metadata": {
    "papermill": {
     "duration": 0.02772,
     "end_time": "2023-03-31T19:07:50.790870",
     "exception": false,
     "start_time": "2023-03-31T19:07:50.763150",
     "status": "completed"
    },
    "tags": []
   },
   "source": [
    "# Heatmap"
   ]
  },
  {
   "cell_type": "code",
   "execution_count": 15,
   "id": "632cddb1",
   "metadata": {
    "execution": {
     "iopub.execute_input": "2023-03-31T19:07:50.848375Z",
     "iopub.status.busy": "2023-03-31T19:07:50.847885Z",
     "iopub.status.idle": "2023-03-31T19:07:52.669741Z",
     "shell.execute_reply": "2023-03-31T19:07:52.668682Z"
    },
    "papermill": {
     "duration": 1.856774,
     "end_time": "2023-03-31T19:07:52.675322",
     "exception": false,
     "start_time": "2023-03-31T19:07:50.818548",
     "status": "completed"
    },
    "tags": []
   },
   "outputs": [
    {
     "data": {
      "image/png": "[encoded data removed]",
      "text/plain": [
       "<Figure size 1600x1600 with 2 Axes>"
      ]
     },
     "metadata": {},
     "output_type": "display_data"
    }
   ],
   "source": [
    "correl=Data.corr()\n",
    "plt.figure(figsize=(16,16))\n",
    "sns.heatmap(data=correl, annot=True)\n",
    "plt.show()"
   ]
  },
  {
   "cell_type": "markdown",
   "id": "d9f53517",
   "metadata": {
    "papermill": {
     "duration": 0.032742,
     "end_time": "2023-03-31T19:07:52.741825",
     "exception": false,
     "start_time": "2023-03-31T19:07:52.709083",
     "status": "completed"
    },
    "tags": []
   },
   "source": [
    "# Encoding Categorical Features of Train Data"
   ]
  },
  {
   "cell_type": "code",
   "execution_count": 16,
   "id": "56425e70",
   "metadata": {
    "execution": {
     "iopub.execute_input": "2023-03-31T19:07:52.811034Z",
     "iopub.status.busy": "2023-03-31T19:07:52.810350Z",
     "iopub.status.idle": "2023-03-31T19:07:52.855610Z",
     "shell.execute_reply": "2023-03-31T19:07:52.854514Z"
    },
    "papermill": {
     "duration": 0.083458,
     "end_time": "2023-03-31T19:07:52.858530",
     "exception": false,
     "start_time": "2023-03-31T19:07:52.775072",
     "status": "completed"
    },
    "tags": []
   },
   "outputs": [],
   "source": [
    "oenc=OrdinalEncoder(categories='auto')\n",
    "Data['Month_SeasonalPurchase']=oenc.fit_transform(Data['Month_SeasonalPurchase'].values.reshape(-1,1))\n",
    "\n",
    "\n",
    "\n",
    "ohe=OneHotEncoder(categories='auto', handle_unknown='ignore', sparse=False)\n",
    "Data['Gender']=ohe.fit_transform(Data['Gender'].values.reshape(-1,1))\n",
    "Data['Marital Status']=ohe.fit_transform(Data['Marital Status'].values.reshape(-1,1))\n",
    "Data['Education']=ohe.fit_transform(Data['Education'].values.reshape(-1,1)) \n",
    "Data['CustomerType']=ohe.fit_transform(Data['CustomerType'].values.reshape(-1,1))\n",
    "Data['Cookies Setting']=ohe.fit_transform(Data['Cookies Setting'].values.reshape(-1,1))\n"
   ]
  },
  {
   "cell_type": "code",
   "execution_count": 17,
   "id": "e1beda7b",
   "metadata": {
    "execution": {
     "iopub.execute_input": "2023-03-31T19:07:52.926965Z",
     "iopub.status.busy": "2023-03-31T19:07:52.926539Z",
     "iopub.status.idle": "2023-03-31T19:07:52.932979Z",
     "shell.execute_reply": "2023-03-31T19:07:52.931830Z"
    },
    "papermill": {
     "duration": 0.044432,
     "end_time": "2023-03-31T19:07:52.935626",
     "exception": false,
     "start_time": "2023-03-31T19:07:52.891194",
     "status": "completed"
    },
    "tags": []
   },
   "outputs": [],
   "source": [
    "label_enc=LabelEncoder()\n",
    "Data['Made_Purchase']=label_enc.fit_transform(Data['Made_Purchase'])"
   ]
  },
  {
   "cell_type": "code",
   "execution_count": 18,
   "id": "4f05fb4e",
   "metadata": {
    "execution": {
     "iopub.execute_input": "2023-03-31T19:07:53.004280Z",
     "iopub.status.busy": "2023-03-31T19:07:53.003844Z",
     "iopub.status.idle": "2023-03-31T19:07:53.021488Z",
     "shell.execute_reply": "2023-03-31T19:07:53.019362Z"
    },
    "papermill": {
     "duration": 0.055698,
     "end_time": "2023-03-31T19:07:53.024417",
     "exception": false,
     "start_time": "2023-03-31T19:07:52.968719",
     "status": "completed"
    },
    "tags": []
   },
   "outputs": [
    {
     "name": "stdout",
     "output_type": "stream",
     "text": [
      "<class 'pandas.core.frame.DataFrame'>\n",
      "RangeIndex: 14731 entries, 0 to 14730\n",
      "Data columns (total 22 columns):\n",
      " #   Column                           Non-Null Count  Dtype  \n",
      "---  ------                           --------------  -----  \n",
      " 0   HomePage                         14578 non-null  float64\n",
      " 1   HomePage_Duration                14581 non-null  float64\n",
      " 2   LandingPage                      14578 non-null  float64\n",
      " 3   LandingPage_Duration             14596 non-null  float64\n",
      " 4   ProductDescriptionPage           14608 non-null  float64\n",
      " 5   ProductDescriptionPage_Duration  14564 non-null  float64\n",
      " 6   GoogleMetric:Bounce Rates        14580 non-null  float64\n",
      " 7   GoogleMetric:Exit Rates          14602 non-null  float64\n",
      " 8   GoogleMetric:Page Values         14599 non-null  float64\n",
      " 9   SeasonalPurchase                 14581 non-null  float64\n",
      " 10  Month_SeasonalPurchase           14587 non-null  float64\n",
      " 11  OS                               14597 non-null  float64\n",
      " 12  SearchEngine                     14609 non-null  float64\n",
      " 13  Zone                             14614 non-null  float64\n",
      " 14  Type of Traffic                  14588 non-null  float64\n",
      " 15  CustomerType                     14731 non-null  float64\n",
      " 16  Gender                           14731 non-null  float64\n",
      " 17  Cookies Setting                  14731 non-null  float64\n",
      " 18  Education                        14731 non-null  float64\n",
      " 19  Marital Status                   14731 non-null  float64\n",
      " 20  WeekendPurchase                  14610 non-null  float64\n",
      " 21  Made_Purchase                    14731 non-null  int64  \n",
      "dtypes: float64(21), int64(1)\n",
      "memory usage: 2.5 MB\n"
     ]
    }
   ],
   "source": [
    "Data.info()"
   ]
  },
  {
   "cell_type": "markdown",
   "id": "1d2aa151",
   "metadata": {
    "papermill": {
     "duration": 0.033648,
     "end_time": "2023-03-31T19:07:53.091898",
     "exception": false,
     "start_time": "2023-03-31T19:07:53.058250",
     "status": "completed"
    },
    "tags": []
   },
   "source": [
    "# Displaying Data Metrics"
   ]
  },
  {
   "cell_type": "code",
   "execution_count": 19,
   "id": "a8d5b419",
   "metadata": {
    "execution": {
     "iopub.execute_input": "2023-03-31T19:07:53.161222Z",
     "iopub.status.busy": "2023-03-31T19:07:53.160500Z",
     "iopub.status.idle": "2023-03-31T19:07:53.271650Z",
     "shell.execute_reply": "2023-03-31T19:07:53.270333Z"
    },
    "papermill": {
     "duration": 0.150176,
     "end_time": "2023-03-31T19:07:53.275896",
     "exception": false,
     "start_time": "2023-03-31T19:07:53.125720",
     "status": "completed"
    },
    "tags": []
   },
   "outputs": [
    {
     "data": {
      "text/html": [
       "<div>\n",
       "<style scoped>\n",
       "    .dataframe tbody tr th:only-of-type {\n",
       "        vertical-align: middle;\n",
       "    }\n",
       "\n",
       "    .dataframe tbody tr th {\n",
       "        vertical-align: top;\n",
       "    }\n",
       "\n",
       "    .dataframe thead th {\n",
       "        text-align: right;\n",
       "    }\n",
       "</style>\n",
       "<table border=\"1\" class=\"dataframe\">\n",
       "  <thead>\n",
       "    <tr style=\"text-align: right;\">\n",
       "      <th></th>\n",
       "      <th>HomePage</th>\n",
       "      <th>HomePage_Duration</th>\n",
       "      <th>LandingPage</th>\n",
       "      <th>LandingPage_Duration</th>\n",
       "      <th>ProductDescriptionPage</th>\n",
       "      <th>ProductDescriptionPage_Duration</th>\n",
       "      <th>GoogleMetric:Bounce Rates</th>\n",
       "      <th>GoogleMetric:Exit Rates</th>\n",
       "      <th>GoogleMetric:Page Values</th>\n",
       "      <th>SeasonalPurchase</th>\n",
       "      <th>...</th>\n",
       "      <th>SearchEngine</th>\n",
       "      <th>Zone</th>\n",
       "      <th>Type of Traffic</th>\n",
       "      <th>CustomerType</th>\n",
       "      <th>Gender</th>\n",
       "      <th>Cookies Setting</th>\n",
       "      <th>Education</th>\n",
       "      <th>Marital Status</th>\n",
       "      <th>WeekendPurchase</th>\n",
       "      <th>Made_Purchase</th>\n",
       "    </tr>\n",
       "  </thead>\n",
       "  <tbody>\n",
       "    <tr>\n",
       "      <th>count</th>\n",
       "      <td>14578.000000</td>\n",
       "      <td>14581.000000</td>\n",
       "      <td>14578.000000</td>\n",
       "      <td>14596.000000</td>\n",
       "      <td>14608.000000</td>\n",
       "      <td>14564.000000</td>\n",
       "      <td>14580.000000</td>\n",
       "      <td>14602.000000</td>\n",
       "      <td>14599.000000</td>\n",
       "      <td>14581.000000</td>\n",
       "      <td>...</td>\n",
       "      <td>14609.000000</td>\n",
       "      <td>14614.000000</td>\n",
       "      <td>14588.000000</td>\n",
       "      <td>14731.000000</td>\n",
       "      <td>14731.000000</td>\n",
       "      <td>14731.000000</td>\n",
       "      <td>14731.000000</td>\n",
       "      <td>14731.000000</td>\n",
       "      <td>14610.000000</td>\n",
       "      <td>14731.000000</td>\n",
       "    </tr>\n",
       "    <tr>\n",
       "      <th>mean</th>\n",
       "      <td>2.250240</td>\n",
       "      <td>79.300762</td>\n",
       "      <td>0.490739</td>\n",
       "      <td>33.455943</td>\n",
       "      <td>31.559488</td>\n",
       "      <td>1184.346084</td>\n",
       "      <td>0.023366</td>\n",
       "      <td>0.044664</td>\n",
       "      <td>4.812620</td>\n",
       "      <td>0.064083</td>\n",
       "      <td>...</td>\n",
       "      <td>2.356629</td>\n",
       "      <td>3.155673</td>\n",
       "      <td>4.090143</td>\n",
       "      <td>0.130677</td>\n",
       "      <td>0.327812</td>\n",
       "      <td>0.322857</td>\n",
       "      <td>0.247980</td>\n",
       "      <td>0.321092</td>\n",
       "      <td>0.234155</td>\n",
       "      <td>0.384631</td>\n",
       "    </tr>\n",
       "    <tr>\n",
       "      <th>std</th>\n",
       "      <td>3.288042</td>\n",
       "      <td>179.374699</td>\n",
       "      <td>1.252376</td>\n",
       "      <td>140.146256</td>\n",
       "      <td>44.897089</td>\n",
       "      <td>2009.496307</td>\n",
       "      <td>0.050011</td>\n",
       "      <td>0.049912</td>\n",
       "      <td>16.887366</td>\n",
       "      <td>0.202583</td>\n",
       "      <td>...</td>\n",
       "      <td>1.721823</td>\n",
       "      <td>2.405155</td>\n",
       "      <td>4.040147</td>\n",
       "      <td>0.337058</td>\n",
       "      <td>0.469432</td>\n",
       "      <td>0.467584</td>\n",
       "      <td>0.431855</td>\n",
       "      <td>0.466912</td>\n",
       "      <td>0.423484</td>\n",
       "      <td>0.486524</td>\n",
       "    </tr>\n",
       "    <tr>\n",
       "      <th>min</th>\n",
       "      <td>0.000000</td>\n",
       "      <td>0.000000</td>\n",
       "      <td>0.000000</td>\n",
       "      <td>0.000000</td>\n",
       "      <td>0.000000</td>\n",
       "      <td>0.000000</td>\n",
       "      <td>0.000000</td>\n",
       "      <td>0.000000</td>\n",
       "      <td>0.000000</td>\n",
       "      <td>0.000000</td>\n",
       "      <td>...</td>\n",
       "      <td>1.000000</td>\n",
       "      <td>1.000000</td>\n",
       "      <td>1.000000</td>\n",
       "      <td>0.000000</td>\n",
       "      <td>0.000000</td>\n",
       "      <td>0.000000</td>\n",
       "      <td>0.000000</td>\n",
       "      <td>0.000000</td>\n",
       "      <td>0.000000</td>\n",
       "      <td>0.000000</td>\n",
       "    </tr>\n",
       "    <tr>\n",
       "      <th>25%</th>\n",
       "      <td>0.000000</td>\n",
       "      <td>0.000000</td>\n",
       "      <td>0.000000</td>\n",
       "      <td>0.000000</td>\n",
       "      <td>7.000000</td>\n",
       "      <td>173.187500</td>\n",
       "      <td>0.000000</td>\n",
       "      <td>0.014502</td>\n",
       "      <td>0.000000</td>\n",
       "      <td>0.000000</td>\n",
       "      <td>...</td>\n",
       "      <td>2.000000</td>\n",
       "      <td>1.000000</td>\n",
       "      <td>2.000000</td>\n",
       "      <td>0.000000</td>\n",
       "      <td>0.000000</td>\n",
       "      <td>0.000000</td>\n",
       "      <td>0.000000</td>\n",
       "      <td>0.000000</td>\n",
       "      <td>0.000000</td>\n",
       "      <td>0.000000</td>\n",
       "    </tr>\n",
       "    <tr>\n",
       "      <th>50%</th>\n",
       "      <td>1.000000</td>\n",
       "      <td>5.000000</td>\n",
       "      <td>0.000000</td>\n",
       "      <td>0.000000</td>\n",
       "      <td>17.500000</td>\n",
       "      <td>584.333333</td>\n",
       "      <td>0.003478</td>\n",
       "      <td>0.026406</td>\n",
       "      <td>0.000000</td>\n",
       "      <td>0.000000</td>\n",
       "      <td>...</td>\n",
       "      <td>2.000000</td>\n",
       "      <td>3.000000</td>\n",
       "      <td>2.000000</td>\n",
       "      <td>0.000000</td>\n",
       "      <td>0.000000</td>\n",
       "      <td>0.000000</td>\n",
       "      <td>0.000000</td>\n",
       "      <td>0.000000</td>\n",
       "      <td>0.000000</td>\n",
       "      <td>0.000000</td>\n",
       "    </tr>\n",
       "    <tr>\n",
       "      <th>75%</th>\n",
       "      <td>3.000000</td>\n",
       "      <td>91.000000</td>\n",
       "      <td>0.000000</td>\n",
       "      <td>0.000000</td>\n",
       "      <td>38.000000</td>\n",
       "      <td>1434.255128</td>\n",
       "      <td>0.018182</td>\n",
       "      <td>0.050000</td>\n",
       "      <td>0.000000</td>\n",
       "      <td>0.000000</td>\n",
       "      <td>...</td>\n",
       "      <td>2.000000</td>\n",
       "      <td>4.000000</td>\n",
       "      <td>4.000000</td>\n",
       "      <td>0.000000</td>\n",
       "      <td>1.000000</td>\n",
       "      <td>1.000000</td>\n",
       "      <td>0.000000</td>\n",
       "      <td>1.000000</td>\n",
       "      <td>0.000000</td>\n",
       "      <td>1.000000</td>\n",
       "    </tr>\n",
       "    <tr>\n",
       "      <th>max</th>\n",
       "      <td>27.000000</td>\n",
       "      <td>3398.750000</td>\n",
       "      <td>24.000000</td>\n",
       "      <td>2549.375000</td>\n",
       "      <td>705.000000</td>\n",
       "      <td>63973.522230</td>\n",
       "      <td>0.200000</td>\n",
       "      <td>0.200000</td>\n",
       "      <td>361.763742</td>\n",
       "      <td>1.000000</td>\n",
       "      <td>...</td>\n",
       "      <td>13.000000</td>\n",
       "      <td>9.000000</td>\n",
       "      <td>20.000000</td>\n",
       "      <td>1.000000</td>\n",
       "      <td>1.000000</td>\n",
       "      <td>1.000000</td>\n",
       "      <td>1.000000</td>\n",
       "      <td>1.000000</td>\n",
       "      <td>1.000000</td>\n",
       "      <td>1.000000</td>\n",
       "    </tr>\n",
       "  </tbody>\n",
       "</table>\n",
       "<p>8 rows × 22 columns</p>\n",
       "</div>"
      ],
      "text/plain": [
       "           HomePage  HomePage_Duration   LandingPage  LandingPage_Duration  \\\n",
       "count  14578.000000       14581.000000  14578.000000          14596.000000   \n",
       "mean       2.250240          79.300762      0.490739             33.455943   \n",
       "std        3.288042         179.374699      1.252376            140.146256   \n",
       "min        0.000000           0.000000      0.000000              0.000000   \n",
       "25%        0.000000           0.000000      0.000000              0.000000   \n",
       "50%        1.000000           5.000000      0.000000              0.000000   \n",
       "75%        3.000000          91.000000      0.000000              0.000000   \n",
       "max       27.000000        3398.750000     24.000000           2549.375000   \n",
       "\n",
       "       ProductDescriptionPage  ProductDescriptionPage_Duration  \\\n",
       "count            14608.000000                     14564.000000   \n",
       "mean                31.559488                      1184.346084   \n",
       "std                 44.897089                      2009.496307   \n",
       "min                  0.000000                         0.000000   \n",
       "25%                  7.000000                       173.187500   \n",
       "50%                 17.500000                       584.333333   \n",
       "75%                 38.000000                      1434.255128   \n",
       "max                705.000000                     63973.522230   \n",
       "\n",
       "       GoogleMetric:Bounce Rates  GoogleMetric:Exit Rates  \\\n",
       "count               14580.000000             14602.000000   \n",
       "mean                    0.023366                 0.044664   \n",
       "std                     0.050011                 0.049912   \n",
       "min                     0.000000                 0.000000   \n",
       "25%                     0.000000                 0.014502   \n",
       "50%                     0.003478                 0.026406   \n",
       "75%                     0.018182                 0.050000   \n",
       "max                     0.200000                 0.200000   \n",
       "\n",
       "       GoogleMetric:Page Values  SeasonalPurchase  ...  SearchEngine  \\\n",
       "count              14599.000000      14581.000000  ...  14609.000000   \n",
       "mean                   4.812620          0.064083  ...      2.356629   \n",
       "std                   16.887366          0.202583  ...      1.721823   \n",
       "min                    0.000000          0.000000  ...      1.000000   \n",
       "25%                    0.000000          0.000000  ...      2.000000   \n",
       "50%                    0.000000          0.000000  ...      2.000000   \n",
       "75%                    0.000000          0.000000  ...      2.000000   \n",
       "max                  361.763742          1.000000  ...     13.000000   \n",
       "\n",
       "               Zone  Type of Traffic  CustomerType        Gender  \\\n",
       "count  14614.000000     14588.000000  14731.000000  14731.000000   \n",
       "mean       3.155673         4.090143      0.130677      0.327812   \n",
       "std        2.405155         4.040147      0.337058      0.469432   \n",
       "min        1.000000         1.000000      0.000000      0.000000   \n",
       "25%        1.000000         2.000000      0.000000      0.000000   \n",
       "50%        3.000000         2.000000      0.000000      0.000000   \n",
       "75%        4.000000         4.000000      0.000000      1.000000   \n",
       "max        9.000000        20.000000      1.000000      1.000000   \n",
       "\n",
       "       Cookies Setting     Education  Marital Status  WeekendPurchase  \\\n",
       "count     14731.000000  14731.000000    14731.000000     14610.000000   \n",
       "mean          0.322857      0.247980        0.321092         0.234155   \n",
       "std           0.467584      0.431855        0.466912         0.423484   \n",
       "min           0.000000      0.000000        0.000000         0.000000   \n",
       "25%           0.000000      0.000000        0.000000         0.000000   \n",
       "50%           0.000000      0.000000        0.000000         0.000000   \n",
       "75%           1.000000      0.000000        1.000000         0.000000   \n",
       "max           1.000000      1.000000        1.000000         1.000000   \n",
       "\n",
       "       Made_Purchase  \n",
       "count   14731.000000  \n",
       "mean        0.384631  \n",
       "std         0.486524  \n",
       "min         0.000000  \n",
       "25%         0.000000  \n",
       "50%         0.000000  \n",
       "75%         1.000000  \n",
       "max         1.000000  \n",
       "\n",
       "[8 rows x 22 columns]"
      ]
     },
     "execution_count": 19,
     "metadata": {},
     "output_type": "execute_result"
    }
   ],
   "source": [
    "Data.describe()\n"
   ]
  },
  {
   "cell_type": "markdown",
   "id": "3cdcb879",
   "metadata": {
    "papermill": {
     "duration": 0.033638,
     "end_time": "2023-03-31T19:07:53.352278",
     "exception": false,
     "start_time": "2023-03-31T19:07:53.318640",
     "status": "completed"
    },
    "tags": []
   },
   "source": [
    "# Dropping Target Variable"
   ]
  },
  {
   "cell_type": "code",
   "execution_count": 20,
   "id": "2aff42e7",
   "metadata": {
    "execution": {
     "iopub.execute_input": "2023-03-31T19:07:53.421698Z",
     "iopub.status.busy": "2023-03-31T19:07:53.420870Z",
     "iopub.status.idle": "2023-03-31T19:07:53.431234Z",
     "shell.execute_reply": "2023-03-31T19:07:53.430041Z"
    },
    "papermill": {
     "duration": 0.047812,
     "end_time": "2023-03-31T19:07:53.433892",
     "exception": false,
     "start_time": "2023-03-31T19:07:53.386080",
     "status": "completed"
    },
    "tags": []
   },
   "outputs": [
    {
     "data": {
      "text/plain": [
       "array([0, 1])"
      ]
     },
     "execution_count": 20,
     "metadata": {},
     "output_type": "execute_result"
    }
   ],
   "source": [
    "y=Data['Made_Purchase']\n",
    "X=Data.drop('Made_Purchase', axis=1)\n",
    "y.unique()"
   ]
  },
  {
   "cell_type": "code",
   "execution_count": 21,
   "id": "bd7308e2",
   "metadata": {
    "execution": {
     "iopub.execute_input": "2023-03-31T19:07:53.504856Z",
     "iopub.status.busy": "2023-03-31T19:07:53.504426Z",
     "iopub.status.idle": "2023-03-31T19:07:53.513628Z",
     "shell.execute_reply": "2023-03-31T19:07:53.512325Z"
    },
    "papermill": {
     "duration": 0.04886,
     "end_time": "2023-03-31T19:07:53.516210",
     "exception": false,
     "start_time": "2023-03-31T19:07:53.467350",
     "status": "completed"
    },
    "tags": []
   },
   "outputs": [
    {
     "data": {
      "text/plain": [
       "0    9065\n",
       "1    5666\n",
       "Name: Made_Purchase, dtype: int64"
      ]
     },
     "execution_count": 21,
     "metadata": {},
     "output_type": "execute_result"
    }
   ],
   "source": [
    "y.value_counts()"
   ]
  },
  {
   "cell_type": "markdown",
   "id": "918081a9",
   "metadata": {
    "papermill": {
     "duration": 0.033665,
     "end_time": "2023-03-31T19:07:53.583629",
     "exception": false,
     "start_time": "2023-03-31T19:07:53.549964",
     "status": "completed"
    },
    "tags": []
   },
   "source": [
    "# Imputation of Train Data"
   ]
  },
  {
   "cell_type": "code",
   "execution_count": 22,
   "id": "5ef8f926",
   "metadata": {
    "execution": {
     "iopub.execute_input": "2023-03-31T19:07:53.652887Z",
     "iopub.status.busy": "2023-03-31T19:07:53.652441Z",
     "iopub.status.idle": "2023-03-31T19:07:53.696322Z",
     "shell.execute_reply": "2023-03-31T19:07:53.694796Z"
    },
    "papermill": {
     "duration": 0.08192,
     "end_time": "2023-03-31T19:07:53.699145",
     "exception": false,
     "start_time": "2023-03-31T19:07:53.617225",
     "status": "completed"
    },
    "tags": []
   },
   "outputs": [
    {
     "name": "stdout",
     "output_type": "stream",
     "text": [
      "(14731, 21)\n"
     ]
    }
   ],
   "source": [
    "si=SimpleImputer(missing_values=np.nan, strategy='median')\n",
    "X_new=si.fit_transform(X,y)\n",
    "print(X_new.shape)"
   ]
  },
  {
   "cell_type": "markdown",
   "id": "b72c8313",
   "metadata": {
    "papermill": {
     "duration": 0.033688,
     "end_time": "2023-03-31T19:07:53.766469",
     "exception": false,
     "start_time": "2023-03-31T19:07:53.732781",
     "status": "completed"
    },
    "tags": []
   },
   "source": [
    "# Checking Null Values Again of Train Data"
   ]
  },
  {
   "cell_type": "code",
   "execution_count": 23,
   "id": "931a325e",
   "metadata": {
    "execution": {
     "iopub.execute_input": "2023-03-31T19:07:53.835843Z",
     "iopub.status.busy": "2023-03-31T19:07:53.835431Z",
     "iopub.status.idle": "2023-03-31T19:07:53.840981Z",
     "shell.execute_reply": "2023-03-31T19:07:53.839782Z"
    },
    "papermill": {
     "duration": 0.043277,
     "end_time": "2023-03-31T19:07:53.843267",
     "exception": false,
     "start_time": "2023-03-31T19:07:53.799990",
     "status": "completed"
    },
    "tags": []
   },
   "outputs": [],
   "source": [
    "X_new=pd.DataFrame(X_new,columns=X.columns)"
   ]
  },
  {
   "cell_type": "code",
   "execution_count": 24,
   "id": "237205ec",
   "metadata": {
    "execution": {
     "iopub.execute_input": "2023-03-31T19:07:53.912636Z",
     "iopub.status.busy": "2023-03-31T19:07:53.912213Z",
     "iopub.status.idle": "2023-03-31T19:07:53.922260Z",
     "shell.execute_reply": "2023-03-31T19:07:53.921032Z"
    },
    "papermill": {
     "duration": 0.047559,
     "end_time": "2023-03-31T19:07:53.924584",
     "exception": false,
     "start_time": "2023-03-31T19:07:53.877025",
     "status": "completed"
    },
    "tags": []
   },
   "outputs": [
    {
     "data": {
      "text/plain": [
       "HomePage                           0\n",
       "HomePage_Duration                  0\n",
       "LandingPage                        0\n",
       "LandingPage_Duration               0\n",
       "ProductDescriptionPage             0\n",
       "ProductDescriptionPage_Duration    0\n",
       "GoogleMetric:Bounce Rates          0\n",
       "GoogleMetric:Exit Rates            0\n",
       "GoogleMetric:Page Values           0\n",
       "SeasonalPurchase                   0\n",
       "Month_SeasonalPurchase             0\n",
       "OS                                 0\n",
       "SearchEngine                       0\n",
       "Zone                               0\n",
       "Type of Traffic                    0\n",
       "CustomerType                       0\n",
       "Gender                             0\n",
       "Cookies Setting                    0\n",
       "Education                          0\n",
       "Marital Status                     0\n",
       "WeekendPurchase                    0\n",
       "dtype: int64"
      ]
     },
     "execution_count": 24,
     "metadata": {},
     "output_type": "execute_result"
    }
   ],
   "source": [
    "X_new.isnull().sum()"
   ]
  },
  {
   "cell_type": "code",
   "execution_count": 25,
   "id": "82d48c3e",
   "metadata": {
    "execution": {
     "iopub.execute_input": "2023-03-31T19:07:53.995300Z",
     "iopub.status.busy": "2023-03-31T19:07:53.994770Z",
     "iopub.status.idle": "2023-03-31T19:07:53.999855Z",
     "shell.execute_reply": "2023-03-31T19:07:53.998800Z"
    },
    "papermill": {
     "duration": 0.043165,
     "end_time": "2023-03-31T19:07:54.002428",
     "exception": false,
     "start_time": "2023-03-31T19:07:53.959263",
     "status": "completed"
    },
    "tags": []
   },
   "outputs": [],
   "source": [
    "X_new=pd.DataFrame(X_new, columns=X.columns)"
   ]
  },
  {
   "cell_type": "code",
   "execution_count": 26,
   "id": "d8f599ee",
   "metadata": {
    "execution": {
     "iopub.execute_input": "2023-03-31T19:07:54.072383Z",
     "iopub.status.busy": "2023-03-31T19:07:54.071596Z",
     "iopub.status.idle": "2023-03-31T19:07:54.086017Z",
     "shell.execute_reply": "2023-03-31T19:07:54.084377Z"
    },
    "papermill": {
     "duration": 0.052454,
     "end_time": "2023-03-31T19:07:54.088645",
     "exception": false,
     "start_time": "2023-03-31T19:07:54.036191",
     "status": "completed"
    },
    "tags": []
   },
   "outputs": [
    {
     "name": "stdout",
     "output_type": "stream",
     "text": [
      "number of unique values in Month_SeasonalPurchase: [2. 5. 6. 8. 4. 3. 0. 7. 9. 1.]\n",
      "number of unique values in customer type: [0. 1.]\n",
      "number of unique values in Gender: [0. 1.]\n",
      "number of unique values in Cookies Setting: [0. 1.]\n",
      "number of unique values in Education: [0. 1.]\n",
      "number of unique values in Marital Status: [0. 1.]\n"
     ]
    }
   ],
   "source": [
    "print('number of unique values in Month_SeasonalPurchase:',X_new['Month_SeasonalPurchase'].unique())\n",
    "print('number of unique values in customer type:',X_new['CustomerType'].unique())\n",
    "print('number of unique values in Gender:',X_new['Gender'].unique())\n",
    "print('number of unique values in Cookies Setting:',X_new['Cookies Setting'].unique())\n",
    "print('number of unique values in Education:',X_new['Education'].unique())\n",
    "print('number of unique values in Marital Status:',X_new['Marital Status'].unique())"
   ]
  },
  {
   "cell_type": "markdown",
   "id": "6d006f49",
   "metadata": {
    "papermill": {
     "duration": 0.0336,
     "end_time": "2023-03-31T19:07:54.156229",
     "exception": false,
     "start_time": "2023-03-31T19:07:54.122629",
     "status": "completed"
    },
    "tags": []
   },
   "source": [
    "# KDE Plot before Scaling of Features of Train Data"
   ]
  },
  {
   "cell_type": "code",
   "execution_count": 27,
   "id": "83353b8c",
   "metadata": {
    "execution": {
     "iopub.execute_input": "2023-03-31T19:07:54.226091Z",
     "iopub.status.busy": "2023-03-31T19:07:54.225632Z",
     "iopub.status.idle": "2023-03-31T19:08:01.503092Z",
     "shell.execute_reply": "2023-03-31T19:08:01.501497Z"
    },
    "papermill": {
     "duration": 7.315838,
     "end_time": "2023-03-31T19:08:01.505849",
     "exception": false,
     "start_time": "2023-03-31T19:07:54.190011",
     "status": "completed"
    },
    "tags": []
   },
   "outputs": [
    {
     "data": {
      "text/plain": [
       "<AxesSubplot:ylabel='Density'>"
      ]
     },
     "execution_count": 27,
     "metadata": {},
     "output_type": "execute_result"
    },
    {
     "data": {
      "image/png": "[encoded data removed]",
      "text/plain": [
       "<Figure size 640x480 with 1 Axes>"
      ]
     },
     "metadata": {},
     "output_type": "display_data"
    }
   ],
   "source": [
    "# Checking whether the features are on same scale or not \n",
    "\n",
    "X_new.plot.kde()"
   ]
  },
  {
   "cell_type": "markdown",
   "id": "dd0cfbae",
   "metadata": {
    "papermill": {
     "duration": 0.0354,
     "end_time": "2023-03-31T19:08:01.576958",
     "exception": false,
     "start_time": "2023-03-31T19:08:01.541558",
     "status": "completed"
    },
    "tags": []
   },
   "source": [
    "# Feature Selection"
   ]
  },
  {
   "cell_type": "code",
   "execution_count": 28,
   "id": "0c4c34ae",
   "metadata": {
    "execution": {
     "iopub.execute_input": "2023-03-31T19:08:01.650710Z",
     "iopub.status.busy": "2023-03-31T19:08:01.650246Z",
     "iopub.status.idle": "2023-03-31T19:09:40.558134Z",
     "shell.execute_reply": "2023-03-31T19:09:40.556287Z"
    },
    "papermill": {
     "duration": 98.950858,
     "end_time": "2023-03-31T19:09:40.563267",
     "exception": false,
     "start_time": "2023-03-31T19:08:01.612409",
     "status": "completed"
    },
    "tags": []
   },
   "outputs": [],
   "source": [
    "sfs=SequentialFeatureSelector(estimator=LogisticRegression(max_iter=1500))\n",
    "X_new_sfs=sfs.fit_transform(X_new,y)\n",
    " "
   ]
  },
  {
   "cell_type": "code",
   "execution_count": 29,
   "id": "6d82b8e7",
   "metadata": {
    "execution": {
     "iopub.execute_input": "2023-03-31T19:09:40.701715Z",
     "iopub.status.busy": "2023-03-31T19:09:40.701182Z",
     "iopub.status.idle": "2023-03-31T19:09:40.706872Z",
     "shell.execute_reply": "2023-03-31T19:09:40.705630Z"
    },
    "papermill": {
     "duration": 0.056734,
     "end_time": "2023-03-31T19:09:40.709514",
     "exception": false,
     "start_time": "2023-03-31T19:09:40.652780",
     "status": "completed"
    },
    "tags": []
   },
   "outputs": [],
   "source": [
    "feature_names=X_new.columns"
   ]
  },
  {
   "cell_type": "code",
   "execution_count": 30,
   "id": "ffacc912",
   "metadata": {
    "execution": {
     "iopub.execute_input": "2023-03-31T19:09:40.784716Z",
     "iopub.status.busy": "2023-03-31T19:09:40.784275Z",
     "iopub.status.idle": "2023-03-31T19:09:40.791281Z",
     "shell.execute_reply": "2023-03-31T19:09:40.790356Z"
    },
    "papermill": {
     "duration": 0.048414,
     "end_time": "2023-03-31T19:09:40.793964",
     "exception": false,
     "start_time": "2023-03-31T19:09:40.745550",
     "status": "completed"
    },
    "tags": []
   },
   "outputs": [
    {
     "data": {
      "text/plain": [
       "Index(['HomePage', 'HomePage_Duration', 'LandingPage', 'LandingPage_Duration',\n",
       "       'ProductDescriptionPage', 'ProductDescriptionPage_Duration',\n",
       "       'GoogleMetric:Bounce Rates', 'GoogleMetric:Exit Rates',\n",
       "       'GoogleMetric:Page Values', 'SeasonalPurchase',\n",
       "       'Month_SeasonalPurchase', 'OS', 'SearchEngine', 'Zone',\n",
       "       'Type of Traffic', 'CustomerType', 'Gender', 'Cookies Setting',\n",
       "       'Education', 'Marital Status', 'WeekendPurchase'],\n",
       "      dtype='object')"
      ]
     },
     "execution_count": 30,
     "metadata": {},
     "output_type": "execute_result"
    }
   ],
   "source": [
    "feature_names"
   ]
  },
  {
   "cell_type": "markdown",
   "id": "2223c9e2",
   "metadata": {
    "papermill": {
     "duration": 0.036023,
     "end_time": "2023-03-31T19:09:40.865849",
     "exception": false,
     "start_time": "2023-03-31T19:09:40.829826",
     "status": "completed"
    },
    "tags": []
   },
   "source": [
    "# Selected Features"
   ]
  },
  {
   "cell_type": "code",
   "execution_count": 31,
   "id": "1bd368d3",
   "metadata": {
    "execution": {
     "iopub.execute_input": "2023-03-31T19:09:40.940439Z",
     "iopub.status.busy": "2023-03-31T19:09:40.939312Z",
     "iopub.status.idle": "2023-03-31T19:09:40.947838Z",
     "shell.execute_reply": "2023-03-31T19:09:40.946788Z"
    },
    "papermill": {
     "duration": 0.048333,
     "end_time": "2023-03-31T19:09:40.950298",
     "exception": false,
     "start_time": "2023-03-31T19:09:40.901965",
     "status": "completed"
    },
    "tags": []
   },
   "outputs": [
    {
     "data": {
      "text/plain": [
       "array(['GoogleMetric:Bounce Rates', 'GoogleMetric:Exit Rates',\n",
       "       'GoogleMetric:Page Values', 'OS', 'SearchEngine',\n",
       "       'Type of Traffic', 'CustomerType', 'Education', 'Marital Status',\n",
       "       'WeekendPurchase'], dtype=object)"
      ]
     },
     "execution_count": 31,
     "metadata": {},
     "output_type": "execute_result"
    }
   ],
   "source": [
    "feature_names_out=sfs.get_feature_names_out(feature_names)\n",
    "feature_names_out"
   ]
  },
  {
   "cell_type": "code",
   "execution_count": 32,
   "id": "c5ae94a0",
   "metadata": {
    "execution": {
     "iopub.execute_input": "2023-03-31T19:09:41.025253Z",
     "iopub.status.busy": "2023-03-31T19:09:41.024543Z",
     "iopub.status.idle": "2023-03-31T19:09:41.030693Z",
     "shell.execute_reply": "2023-03-31T19:09:41.029408Z"
    },
    "papermill": {
     "duration": 0.046421,
     "end_time": "2023-03-31T19:09:41.033370",
     "exception": false,
     "start_time": "2023-03-31T19:09:40.986949",
     "status": "completed"
    },
    "tags": []
   },
   "outputs": [],
   "source": [
    "X_new_sfs=pd.DataFrame(X_new_sfs, columns=list(feature_names_out))"
   ]
  },
  {
   "cell_type": "markdown",
   "id": "b483f518",
   "metadata": {
    "papermill": {
     "duration": 0.035161,
     "end_time": "2023-03-31T19:09:41.103878",
     "exception": false,
     "start_time": "2023-03-31T19:09:41.068717",
     "status": "completed"
    },
    "tags": []
   },
   "source": [
    "# Scaling of Selected Features"
   ]
  },
  {
   "cell_type": "code",
   "execution_count": 33,
   "id": "14947d39",
   "metadata": {
    "execution": {
     "iopub.execute_input": "2023-03-31T19:09:41.177359Z",
     "iopub.status.busy": "2023-03-31T19:09:41.176630Z",
     "iopub.status.idle": "2023-03-31T19:09:41.190262Z",
     "shell.execute_reply": "2023-03-31T19:09:41.188935Z"
    },
    "papermill": {
     "duration": 0.053514,
     "end_time": "2023-03-31T19:09:41.192810",
     "exception": false,
     "start_time": "2023-03-31T19:09:41.139296",
     "status": "completed"
    },
    "tags": []
   },
   "outputs": [
    {
     "data": {
      "text/plain": [
       "(14731, 10)"
      ]
     },
     "execution_count": 33,
     "metadata": {},
     "output_type": "execute_result"
    }
   ],
   "source": [
    "ss=StandardScaler()\n",
    "X_new_sfs=ss.fit_transform(X_new_sfs,y)\n",
    "X_new_sfs.shape"
   ]
  },
  {
   "cell_type": "code",
   "execution_count": 34,
   "id": "ed161b88",
   "metadata": {
    "execution": {
     "iopub.execute_input": "2023-03-31T19:09:41.266951Z",
     "iopub.status.busy": "2023-03-31T19:09:41.266202Z",
     "iopub.status.idle": "2023-03-31T19:09:41.272632Z",
     "shell.execute_reply": "2023-03-31T19:09:41.271417Z"
    },
    "papermill": {
     "duration": 0.046426,
     "end_time": "2023-03-31T19:09:41.275568",
     "exception": false,
     "start_time": "2023-03-31T19:09:41.229142",
     "status": "completed"
    },
    "tags": []
   },
   "outputs": [],
   "source": [
    "X_new_sfs=pd.DataFrame(X_new_sfs, columns=list(feature_names_out))"
   ]
  },
  {
   "cell_type": "markdown",
   "id": "476208c7",
   "metadata": {
    "papermill": {
     "duration": 0.036578,
     "end_time": "2023-03-31T19:09:41.348931",
     "exception": false,
     "start_time": "2023-03-31T19:09:41.312353",
     "status": "completed"
    },
    "tags": []
   },
   "source": [
    "# KDE Plot of Selected Features"
   ]
  },
  {
   "cell_type": "code",
   "execution_count": 35,
   "id": "f71ca158",
   "metadata": {
    "execution": {
     "iopub.execute_input": "2023-03-31T19:09:41.425090Z",
     "iopub.status.busy": "2023-03-31T19:09:41.423778Z",
     "iopub.status.idle": "2023-03-31T19:09:44.842700Z",
     "shell.execute_reply": "2023-03-31T19:09:44.841261Z"
    },
    "papermill": {
     "duration": 3.460563,
     "end_time": "2023-03-31T19:09:44.845431",
     "exception": false,
     "start_time": "2023-03-31T19:09:41.384868",
     "status": "completed"
    },
    "tags": []
   },
   "outputs": [
    {
     "data": {
      "text/plain": [
       "<AxesSubplot:ylabel='Density'>"
      ]
     },
     "execution_count": 35,
     "metadata": {},
     "output_type": "execute_result"
    },
    {
     "data": {
      "image/png": "[encoded data removed]",
      "text/plain": [
       "<Figure size 640x480 with 1 Axes>"
      ]
     },
     "metadata": {},
     "output_type": "display_data"
    }
   ],
   "source": [
    "X_new_sfs.plot.kde()"
   ]
  },
  {
   "cell_type": "markdown",
   "id": "2f0165e9",
   "metadata": {
    "papermill": {
     "duration": 0.036292,
     "end_time": "2023-03-31T19:09:44.918838",
     "exception": false,
     "start_time": "2023-03-31T19:09:44.882546",
     "status": "completed"
    },
    "tags": []
   },
   "source": [
    "# Splitting of Train Dataset"
   ]
  },
  {
   "cell_type": "code",
   "execution_count": 36,
   "id": "2c3865fe",
   "metadata": {
    "execution": {
     "iopub.execute_input": "2023-03-31T19:09:44.993907Z",
     "iopub.status.busy": "2023-03-31T19:09:44.993497Z",
     "iopub.status.idle": "2023-03-31T19:09:45.003367Z",
     "shell.execute_reply": "2023-03-31T19:09:45.002178Z"
    },
    "papermill": {
     "duration": 0.050907,
     "end_time": "2023-03-31T19:09:45.006350",
     "exception": false,
     "start_time": "2023-03-31T19:09:44.955443",
     "status": "completed"
    },
    "tags": []
   },
   "outputs": [],
   "source": [
    "X_train, X_test, y_train, y_test=train_test_split(X_new_sfs, y, test_size=0.2, random_state=42,shuffle=True)"
   ]
  },
  {
   "cell_type": "code",
   "execution_count": 37,
   "id": "aad06a0b",
   "metadata": {
    "execution": {
     "iopub.execute_input": "2023-03-31T19:09:45.081617Z",
     "iopub.status.busy": "2023-03-31T19:09:45.081213Z",
     "iopub.status.idle": "2023-03-31T19:09:45.090431Z",
     "shell.execute_reply": "2023-03-31T19:09:45.089084Z"
    },
    "papermill": {
     "duration": 0.049635,
     "end_time": "2023-03-31T19:09:45.092839",
     "exception": false,
     "start_time": "2023-03-31T19:09:45.043204",
     "status": "completed"
    },
    "tags": []
   },
   "outputs": [
    {
     "data": {
      "text/plain": [
       "0    7180\n",
       "1    4604\n",
       "Name: Made_Purchase, dtype: int64"
      ]
     },
     "execution_count": 37,
     "metadata": {},
     "output_type": "execute_result"
    }
   ],
   "source": [
    "y_train.value_counts()"
   ]
  },
  {
   "cell_type": "markdown",
   "id": "b81a78c5",
   "metadata": {
    "papermill": {
     "duration": 0.036269,
     "end_time": "2023-03-31T19:09:45.166191",
     "exception": false,
     "start_time": "2023-03-31T19:09:45.129922",
     "status": "completed"
    },
    "tags": []
   },
   "source": [
    "# Estimator "
   ]
  },
  {
   "cell_type": "code",
   "execution_count": 38,
   "id": "91d11f30",
   "metadata": {
    "execution": {
     "iopub.execute_input": "2023-03-31T19:09:45.242839Z",
     "iopub.status.busy": "2023-03-31T19:09:45.241459Z",
     "iopub.status.idle": "2023-03-31T19:09:45.246910Z",
     "shell.execute_reply": "2023-03-31T19:09:45.246027Z"
    },
    "papermill": {
     "duration": 0.046318,
     "end_time": "2023-03-31T19:09:45.249220",
     "exception": false,
     "start_time": "2023-03-31T19:09:45.202902",
     "status": "completed"
    },
    "tags": []
   },
   "outputs": [],
   "source": [
    "lr=LogisticRegression()"
   ]
  },
  {
   "cell_type": "markdown",
   "id": "bb0cd4c9",
   "metadata": {
    "papermill": {
     "duration": 0.037094,
     "end_time": "2023-03-31T19:09:45.323563",
     "exception": false,
     "start_time": "2023-03-31T19:09:45.286469",
     "status": "completed"
    },
    "tags": []
   },
   "source": [
    "# Training Model without Parameters"
   ]
  },
  {
   "cell_type": "code",
   "execution_count": 39,
   "id": "878d7ab0",
   "metadata": {
    "execution": {
     "iopub.execute_input": "2023-03-31T19:09:45.399503Z",
     "iopub.status.busy": "2023-03-31T19:09:45.399087Z",
     "iopub.status.idle": "2023-03-31T19:09:45.455562Z",
     "shell.execute_reply": "2023-03-31T19:09:45.453990Z"
    },
    "papermill": {
     "duration": 0.099594,
     "end_time": "2023-03-31T19:09:45.460083",
     "exception": false,
     "start_time": "2023-03-31T19:09:45.360489",
     "status": "completed"
    },
    "tags": []
   },
   "outputs": [
    {
     "data": {
      "text/plain": [
       "LogisticRegression()"
      ]
     },
     "execution_count": 39,
     "metadata": {},
     "output_type": "execute_result"
    }
   ],
   "source": [
    "lr.fit(X_train,y_train)"
   ]
  },
  {
   "cell_type": "code",
   "execution_count": 40,
   "id": "8274bfca",
   "metadata": {
    "execution": {
     "iopub.execute_input": "2023-03-31T19:09:45.596144Z",
     "iopub.status.busy": "2023-03-31T19:09:45.595690Z",
     "iopub.status.idle": "2023-03-31T19:09:45.612595Z",
     "shell.execute_reply": "2023-03-31T19:09:45.611229Z"
    },
    "papermill": {
     "duration": 0.064712,
     "end_time": "2023-03-31T19:09:45.616909",
     "exception": false,
     "start_time": "2023-03-31T19:09:45.552197",
     "status": "completed"
    },
    "tags": []
   },
   "outputs": [
    {
     "data": {
      "text/plain": [
       "0.6766202918221921"
      ]
     },
     "execution_count": 40,
     "metadata": {},
     "output_type": "execute_result"
    }
   ],
   "source": [
    "y_pred=lr.predict(X_test)\n",
    "score_value=lr.score(X_test, y_test)\n",
    "score_value"
   ]
  },
  {
   "cell_type": "markdown",
   "id": "ada7577e",
   "metadata": {
    "papermill": {
     "duration": 0.048892,
     "end_time": "2023-03-31T19:09:45.760174",
     "exception": false,
     "start_time": "2023-03-31T19:09:45.711282",
     "status": "completed"
    },
    "tags": []
   },
   "source": [
    "# Trained Model Metrics "
   ]
  },
  {
   "cell_type": "markdown",
   "id": "6fee5248",
   "metadata": {
    "papermill": {
     "duration": 0.036529,
     "end_time": "2023-03-31T19:09:45.833410",
     "exception": false,
     "start_time": "2023-03-31T19:09:45.796881",
     "status": "completed"
    },
    "tags": []
   },
   "source": [
    "**Classification Report**"
   ]
  },
  {
   "cell_type": "code",
   "execution_count": 41,
   "id": "7fbcdaee",
   "metadata": {
    "execution": {
     "iopub.execute_input": "2023-03-31T19:09:45.909048Z",
     "iopub.status.busy": "2023-03-31T19:09:45.908646Z",
     "iopub.status.idle": "2023-03-31T19:09:45.923397Z",
     "shell.execute_reply": "2023-03-31T19:09:45.921572Z"
    },
    "papermill": {
     "duration": 0.056082,
     "end_time": "2023-03-31T19:09:45.926292",
     "exception": false,
     "start_time": "2023-03-31T19:09:45.870210",
     "status": "completed"
    },
    "tags": []
   },
   "outputs": [
    {
     "name": "stdout",
     "output_type": "stream",
     "text": [
      "              precision    recall  f1-score   support\n",
      "\n",
      "           0       0.67      0.96      0.79      1885\n",
      "           1       0.71      0.18      0.28      1062\n",
      "\n",
      "    accuracy                           0.68      2947\n",
      "   macro avg       0.69      0.57      0.54      2947\n",
      "weighted avg       0.69      0.68      0.61      2947\n",
      "\n"
     ]
    }
   ],
   "source": [
    "print(classification_report(y_test,y_pred))"
   ]
  },
  {
   "cell_type": "markdown",
   "id": "81ee1aa9",
   "metadata": {
    "papermill": {
     "duration": 0.037636,
     "end_time": "2023-03-31T19:09:46.002003",
     "exception": false,
     "start_time": "2023-03-31T19:09:45.964367",
     "status": "completed"
    },
    "tags": []
   },
   "source": [
    "**Confusion Matrix Display**"
   ]
  },
  {
   "cell_type": "code",
   "execution_count": 42,
   "id": "45c91bed",
   "metadata": {
    "execution": {
     "iopub.execute_input": "2023-03-31T19:09:46.079991Z",
     "iopub.status.busy": "2023-03-31T19:09:46.079497Z",
     "iopub.status.idle": "2023-03-31T19:09:46.378905Z",
     "shell.execute_reply": "2023-03-31T19:09:46.377421Z"
    },
    "papermill": {
     "duration": 0.341575,
     "end_time": "2023-03-31T19:09:46.382097",
     "exception": false,
     "start_time": "2023-03-31T19:09:46.040522",
     "status": "completed"
    },
    "tags": []
   },
   "outputs": [
    {
     "data": {
      "text/plain": [
       "<sklearn.metrics._plot.confusion_matrix.ConfusionMatrixDisplay at 0x7f3561bf2e90>"
      ]
     },
     "execution_count": 42,
     "metadata": {},
     "output_type": "execute_result"
    },
    {
     "data": {
      "image/png": "[encoded data removed]",
      "text/plain": [
       "<Figure size 640x480 with 2 Axes>"
      ]
     },
     "metadata": {},
     "output_type": "display_data"
    }
   ],
   "source": [
    "cm_display=ConfusionMatrixDisplay.from_predictions(y_test, y_pred, values_format='.5g')\n",
    "cm_display"
   ]
  },
  {
   "cell_type": "markdown",
   "id": "d194bfab",
   "metadata": {
    "papermill": {
     "duration": 0.03853,
     "end_time": "2023-03-31T19:09:46.458765",
     "exception": false,
     "start_time": "2023-03-31T19:09:46.420235",
     "status": "completed"
    },
    "tags": []
   },
   "source": [
    "# HYPERPARAMETER TUNING"
   ]
  },
  {
   "cell_type": "code",
   "execution_count": 43,
   "id": "a1f90c59",
   "metadata": {
    "execution": {
     "iopub.execute_input": "2023-03-31T19:09:46.537694Z",
     "iopub.status.busy": "2023-03-31T19:09:46.536847Z",
     "iopub.status.idle": "2023-03-31T19:09:46.603427Z",
     "shell.execute_reply": "2023-03-31T19:09:46.601829Z"
    },
    "papermill": {
     "duration": 0.109809,
     "end_time": "2023-03-31T19:09:46.606642",
     "exception": false,
     "start_time": "2023-03-31T19:09:46.496833",
     "status": "completed"
    },
    "tags": []
   },
   "outputs": [],
   "source": [
    "?LogisticRegression"
   ]
  },
  {
   "cell_type": "markdown",
   "id": "6c38a543",
   "metadata": {
    "papermill": {
     "duration": 0.038081,
     "end_time": "2023-03-31T19:09:46.683402",
     "exception": false,
     "start_time": "2023-03-31T19:09:46.645321",
     "status": "completed"
    },
    "tags": []
   },
   "source": [
    "# Training the Model using Hyperparameter tuning"
   ]
  },
  {
   "cell_type": "code",
   "execution_count": 44,
   "id": "7751b8d5",
   "metadata": {
    "execution": {
     "iopub.execute_input": "2023-03-31T19:09:46.763671Z",
     "iopub.status.busy": "2023-03-31T19:09:46.762277Z",
     "iopub.status.idle": "2023-03-31T19:09:46.768697Z",
     "shell.execute_reply": "2023-03-31T19:09:46.767370Z"
    },
    "papermill": {
     "duration": 0.049117,
     "end_time": "2023-03-31T19:09:46.771280",
     "exception": false,
     "start_time": "2023-03-31T19:09:46.722163",
     "status": "completed"
    },
    "tags": []
   },
   "outputs": [],
   "source": [
    "param_grid={'penalty':['l2'], 'solver':['lbfgs', 'saga', 'sag','newton-cg'], 'warm_start':[True,False],\n",
    "           'max_iter':[100,200,400,500], 'fit_intercept':[True, False]}"
   ]
  },
  {
   "cell_type": "code",
   "execution_count": 45,
   "id": "cc54a870",
   "metadata": {
    "execution": {
     "iopub.execute_input": "2023-03-31T19:09:46.848810Z",
     "iopub.status.busy": "2023-03-31T19:09:46.848373Z",
     "iopub.status.idle": "2023-03-31T19:09:46.854026Z",
     "shell.execute_reply": "2023-03-31T19:09:46.852674Z"
    },
    "papermill": {
     "duration": 0.047616,
     "end_time": "2023-03-31T19:09:46.856548",
     "exception": false,
     "start_time": "2023-03-31T19:09:46.808932",
     "status": "completed"
    },
    "tags": []
   },
   "outputs": [],
   "source": [
    "lr_grid_search=GridSearchCV(lr, param_grid=param_grid, cv=5)"
   ]
  },
  {
   "cell_type": "code",
   "execution_count": 46,
   "id": "ec09bf22",
   "metadata": {
    "execution": {
     "iopub.execute_input": "2023-03-31T19:09:46.933988Z",
     "iopub.status.busy": "2023-03-31T19:09:46.933520Z",
     "iopub.status.idle": "2023-03-31T19:10:11.583046Z",
     "shell.execute_reply": "2023-03-31T19:10:11.581685Z"
    },
    "papermill": {
     "duration": 24.693175,
     "end_time": "2023-03-31T19:10:11.587430",
     "exception": false,
     "start_time": "2023-03-31T19:09:46.894255",
     "status": "completed"
    },
    "tags": []
   },
   "outputs": [
    {
     "data": {
      "text/plain": [
       "GridSearchCV(cv=5, estimator=LogisticRegression(),\n",
       "             param_grid={'fit_intercept': [True, False],\n",
       "                         'max_iter': [100, 200, 400, 500], 'penalty': ['l2'],\n",
       "                         'solver': ['lbfgs', 'saga', 'sag', 'newton-cg'],\n",
       "                         'warm_start': [True, False]})"
      ]
     },
     "execution_count": 46,
     "metadata": {},
     "output_type": "execute_result"
    }
   ],
   "source": [
    "lr_grid_search.fit(X_train, y_train)"
   ]
  },
  {
   "cell_type": "code",
   "execution_count": 47,
   "id": "9eca9fb7",
   "metadata": {
    "execution": {
     "iopub.execute_input": "2023-03-31T19:10:11.676067Z",
     "iopub.status.busy": "2023-03-31T19:10:11.675627Z",
     "iopub.status.idle": "2023-03-31T19:10:11.683384Z",
     "shell.execute_reply": "2023-03-31T19:10:11.682043Z"
    },
    "papermill": {
     "duration": 0.050351,
     "end_time": "2023-03-31T19:10:11.685875",
     "exception": false,
     "start_time": "2023-03-31T19:10:11.635524",
     "status": "completed"
    },
    "tags": []
   },
   "outputs": [
    {
     "data": {
      "text/plain": [
       "{'fit_intercept': False,\n",
       " 'max_iter': 200,\n",
       " 'penalty': 'l2',\n",
       " 'solver': 'saga',\n",
       " 'warm_start': False}"
      ]
     },
     "execution_count": 47,
     "metadata": {},
     "output_type": "execute_result"
    }
   ],
   "source": [
    "lr_grid_search.best_params_"
   ]
  },
  {
   "cell_type": "code",
   "execution_count": 48,
   "id": "4f89d11b",
   "metadata": {
    "execution": {
     "iopub.execute_input": "2023-03-31T19:10:11.765789Z",
     "iopub.status.busy": "2023-03-31T19:10:11.765006Z",
     "iopub.status.idle": "2023-03-31T19:10:11.773304Z",
     "shell.execute_reply": "2023-03-31T19:10:11.771464Z"
    },
    "papermill": {
     "duration": 0.054909,
     "end_time": "2023-03-31T19:10:11.779276",
     "exception": false,
     "start_time": "2023-03-31T19:10:11.724367",
     "status": "completed"
    },
    "tags": []
   },
   "outputs": [],
   "source": [
    "y_hpt_pred=lr_grid_search.predict(X_test)"
   ]
  },
  {
   "cell_type": "code",
   "execution_count": 49,
   "id": "55d47bc2",
   "metadata": {
    "execution": {
     "iopub.execute_input": "2023-03-31T19:10:11.925184Z",
     "iopub.status.busy": "2023-03-31T19:10:11.924769Z",
     "iopub.status.idle": "2023-03-31T19:10:11.939986Z",
     "shell.execute_reply": "2023-03-31T19:10:11.938211Z"
    },
    "papermill": {
     "duration": 0.070487,
     "end_time": "2023-03-31T19:10:11.944605",
     "exception": false,
     "start_time": "2023-03-31T19:10:11.874118",
     "status": "completed"
    },
    "tags": []
   },
   "outputs": [
    {
     "data": {
      "text/plain": [
       "0.6874787919918561"
      ]
     },
     "execution_count": 49,
     "metadata": {},
     "output_type": "execute_result"
    }
   ],
   "source": [
    "score_hpt=lr_grid_search.score(X_test, y_test)\n",
    "score_hpt"
   ]
  },
  {
   "cell_type": "markdown",
   "id": "e409ed0b",
   "metadata": {
    "papermill": {
     "duration": 0.04554,
     "end_time": "2023-03-31T19:10:12.084363",
     "exception": false,
     "start_time": "2023-03-31T19:10:12.038823",
     "status": "completed"
    },
    "tags": []
   },
   "source": [
    "**Accuracy Score**"
   ]
  },
  {
   "cell_type": "code",
   "execution_count": 50,
   "id": "aa0f0a26",
   "metadata": {
    "execution": {
     "iopub.execute_input": "2023-03-31T19:10:12.161993Z",
     "iopub.status.busy": "2023-03-31T19:10:12.161560Z",
     "iopub.status.idle": "2023-03-31T19:10:12.169443Z",
     "shell.execute_reply": "2023-03-31T19:10:12.168503Z"
    },
    "papermill": {
     "duration": 0.049467,
     "end_time": "2023-03-31T19:10:12.171749",
     "exception": false,
     "start_time": "2023-03-31T19:10:12.122282",
     "status": "completed"
    },
    "tags": []
   },
   "outputs": [
    {
     "data": {
      "text/plain": [
       "0.6874787919918561"
      ]
     },
     "execution_count": 50,
     "metadata": {},
     "output_type": "execute_result"
    }
   ],
   "source": [
    "acc_score=accuracy_score(y_test, y_hpt_pred)\n",
    "acc_score"
   ]
  },
  {
   "cell_type": "markdown",
   "id": "d3b30d74",
   "metadata": {
    "papermill": {
     "duration": 0.038087,
     "end_time": "2023-03-31T19:10:12.247674",
     "exception": false,
     "start_time": "2023-03-31T19:10:12.209587",
     "status": "completed"
    },
    "tags": []
   },
   "source": [
    "**f1 score**"
   ]
  },
  {
   "cell_type": "code",
   "execution_count": 51,
   "id": "2f627c93",
   "metadata": {
    "execution": {
     "iopub.execute_input": "2023-03-31T19:10:12.326553Z",
     "iopub.status.busy": "2023-03-31T19:10:12.325439Z",
     "iopub.status.idle": "2023-03-31T19:10:12.334542Z",
     "shell.execute_reply": "2023-03-31T19:10:12.333397Z"
    },
    "papermill": {
     "duration": 0.051192,
     "end_time": "2023-03-31T19:10:12.337019",
     "exception": false,
     "start_time": "2023-03-31T19:10:12.285827",
     "status": "completed"
    },
    "tags": []
   },
   "outputs": [
    {
     "data": {
      "text/plain": [
       "0.3944773175542407"
      ]
     },
     "execution_count": 51,
     "metadata": {},
     "output_type": "execute_result"
    }
   ],
   "source": [
    "f1_score=f1_score(y_test, y_hpt_pred)\n",
    "f1_score"
   ]
  },
  {
   "cell_type": "markdown",
   "id": "704c8743",
   "metadata": {
    "papermill": {
     "duration": 0.038548,
     "end_time": "2023-03-31T19:10:12.414595",
     "exception": false,
     "start_time": "2023-03-31T19:10:12.376047",
     "status": "completed"
    },
    "tags": []
   },
   "source": [
    "# Hyperparameter Trained Model Metrics"
   ]
  },
  {
   "cell_type": "markdown",
   "id": "6e581800",
   "metadata": {
    "papermill": {
     "duration": 0.039269,
     "end_time": "2023-03-31T19:10:12.491934",
     "exception": false,
     "start_time": "2023-03-31T19:10:12.452665",
     "status": "completed"
    },
    "tags": []
   },
   "source": [
    "**Classification Report**"
   ]
  },
  {
   "cell_type": "code",
   "execution_count": 52,
   "id": "ac9c0366",
   "metadata": {
    "execution": {
     "iopub.execute_input": "2023-03-31T19:10:12.571007Z",
     "iopub.status.busy": "2023-03-31T19:10:12.570182Z",
     "iopub.status.idle": "2023-03-31T19:10:12.584341Z",
     "shell.execute_reply": "2023-03-31T19:10:12.582608Z"
    },
    "papermill": {
     "duration": 0.057179,
     "end_time": "2023-03-31T19:10:12.587556",
     "exception": false,
     "start_time": "2023-03-31T19:10:12.530377",
     "status": "completed"
    },
    "tags": []
   },
   "outputs": [
    {
     "name": "stdout",
     "output_type": "stream",
     "text": [
      "              precision    recall  f1-score   support\n",
      "\n",
      "           0       0.69      0.92      0.79      1885\n",
      "           1       0.65      0.28      0.39      1062\n",
      "\n",
      "    accuracy                           0.69      2947\n",
      "   macro avg       0.67      0.60      0.59      2947\n",
      "weighted avg       0.68      0.69      0.65      2947\n",
      "\n"
     ]
    }
   ],
   "source": [
    "print(classification_report(y_test, y_hpt_pred))"
   ]
  },
  {
   "cell_type": "markdown",
   "id": "1f55b4bf",
   "metadata": {
    "papermill": {
     "duration": 0.037875,
     "end_time": "2023-03-31T19:10:12.663744",
     "exception": false,
     "start_time": "2023-03-31T19:10:12.625869",
     "status": "completed"
    },
    "tags": []
   },
   "source": [
    "**Confusion Matrix**"
   ]
  },
  {
   "cell_type": "code",
   "execution_count": 53,
   "id": "865ef9d3",
   "metadata": {
    "execution": {
     "iopub.execute_input": "2023-03-31T19:10:12.743385Z",
     "iopub.status.busy": "2023-03-31T19:10:12.742916Z",
     "iopub.status.idle": "2023-03-31T19:10:13.030537Z",
     "shell.execute_reply": "2023-03-31T19:10:13.029153Z"
    },
    "papermill": {
     "duration": 0.331719,
     "end_time": "2023-03-31T19:10:13.033680",
     "exception": false,
     "start_time": "2023-03-31T19:10:12.701961",
     "status": "completed"
    },
    "tags": []
   },
   "outputs": [
    {
     "name": "stdout",
     "output_type": "stream",
     "text": [
      "<sklearn.metrics._plot.confusion_matrix.ConfusionMatrixDisplay object at 0x7f3562f92b90>\n"
     ]
    },
    {
     "data": {
      "image/png": "[encoded data removed]",
      "text/plain": [
       "<Figure size 640x480 with 2 Axes>"
      ]
     },
     "metadata": {},
     "output_type": "display_data"
    }
   ],
   "source": [
    "print(ConfusionMatrixDisplay.from_predictions(y_test, y_hpt_pred, values_format='.5g'))"
   ]
  },
  {
   "cell_type": "markdown",
   "id": "0bf6f45c",
   "metadata": {
    "papermill": {
     "duration": 0.038468,
     "end_time": "2023-03-31T19:10:13.111240",
     "exception": false,
     "start_time": "2023-03-31T19:10:13.072772",
     "status": "completed"
    },
    "tags": []
   },
   "source": [
    "# Loading Test Dataset"
   ]
  },
  {
   "cell_type": "code",
   "execution_count": 54,
   "id": "c907b55f",
   "metadata": {
    "execution": {
     "iopub.execute_input": "2023-03-31T19:10:13.191230Z",
     "iopub.status.busy": "2023-03-31T19:10:13.190384Z",
     "iopub.status.idle": "2023-03-31T19:10:13.235532Z",
     "shell.execute_reply": "2023-03-31T19:10:13.234396Z"
    },
    "papermill": {
     "duration": 0.088436,
     "end_time": "2023-03-31T19:10:13.238438",
     "exception": false,
     "start_time": "2023-03-31T19:10:13.150002",
     "status": "completed"
    },
    "tags": []
   },
   "outputs": [],
   "source": [
    "df_test=pd.read_csv('/kaggle/input/e-commerce-shoppers-behaviour-understanding/test_data_v2.csv')"
   ]
  },
  {
   "cell_type": "code",
   "execution_count": 55,
   "id": "41b258df",
   "metadata": {
    "execution": {
     "iopub.execute_input": "2023-03-31T19:10:13.320129Z",
     "iopub.status.busy": "2023-03-31T19:10:13.319277Z",
     "iopub.status.idle": "2023-03-31T19:10:13.348348Z",
     "shell.execute_reply": "2023-03-31T19:10:13.347030Z"
    },
    "papermill": {
     "duration": 0.073029,
     "end_time": "2023-03-31T19:10:13.351298",
     "exception": false,
     "start_time": "2023-03-31T19:10:13.278269",
     "status": "completed"
    },
    "tags": []
   },
   "outputs": [
    {
     "data": {
      "text/html": [
       "<div>\n",
       "<style scoped>\n",
       "    .dataframe tbody tr th:only-of-type {\n",
       "        vertical-align: middle;\n",
       "    }\n",
       "\n",
       "    .dataframe tbody tr th {\n",
       "        vertical-align: top;\n",
       "    }\n",
       "\n",
       "    .dataframe thead th {\n",
       "        text-align: right;\n",
       "    }\n",
       "</style>\n",
       "<table border=\"1\" class=\"dataframe\">\n",
       "  <thead>\n",
       "    <tr style=\"text-align: right;\">\n",
       "      <th></th>\n",
       "      <th>HomePage</th>\n",
       "      <th>HomePage_Duration</th>\n",
       "      <th>LandingPage</th>\n",
       "      <th>LandingPage_Duration</th>\n",
       "      <th>ProductDescriptionPage</th>\n",
       "      <th>ProductDescriptionPage_Duration</th>\n",
       "      <th>GoogleMetric:Bounce Rates</th>\n",
       "      <th>GoogleMetric:Exit Rates</th>\n",
       "      <th>GoogleMetric:Page Values</th>\n",
       "      <th>SeasonalPurchase</th>\n",
       "      <th>...</th>\n",
       "      <th>OS</th>\n",
       "      <th>SearchEngine</th>\n",
       "      <th>Zone</th>\n",
       "      <th>Type of Traffic</th>\n",
       "      <th>CustomerType</th>\n",
       "      <th>Gender</th>\n",
       "      <th>Cookies Setting</th>\n",
       "      <th>Education</th>\n",
       "      <th>Marital Status</th>\n",
       "      <th>WeekendPurchase</th>\n",
       "    </tr>\n",
       "  </thead>\n",
       "  <tbody>\n",
       "    <tr>\n",
       "      <th>0</th>\n",
       "      <td>0.0</td>\n",
       "      <td>0.0</td>\n",
       "      <td>0.0</td>\n",
       "      <td>0.0</td>\n",
       "      <td>1.0</td>\n",
       "      <td>0.000000</td>\n",
       "      <td>0.200000</td>\n",
       "      <td>0.200000</td>\n",
       "      <td>0.0</td>\n",
       "      <td>0.0</td>\n",
       "      <td>...</td>\n",
       "      <td>1.0</td>\n",
       "      <td>1.0</td>\n",
       "      <td>1.0</td>\n",
       "      <td>1.0</td>\n",
       "      <td>Returning_Visitor</td>\n",
       "      <td>Not Specified</td>\n",
       "      <td>Deny</td>\n",
       "      <td>Not Specified</td>\n",
       "      <td>Single</td>\n",
       "      <td>0.0</td>\n",
       "    </tr>\n",
       "    <tr>\n",
       "      <th>1</th>\n",
       "      <td>0.0</td>\n",
       "      <td>0.0</td>\n",
       "      <td>0.0</td>\n",
       "      <td>0.0</td>\n",
       "      <td>2.0</td>\n",
       "      <td>64.000000</td>\n",
       "      <td>0.000000</td>\n",
       "      <td>0.100000</td>\n",
       "      <td>0.0</td>\n",
       "      <td>0.0</td>\n",
       "      <td>...</td>\n",
       "      <td>2.0</td>\n",
       "      <td>2.0</td>\n",
       "      <td>1.0</td>\n",
       "      <td>2.0</td>\n",
       "      <td>Returning_Visitor</td>\n",
       "      <td>Not Specified</td>\n",
       "      <td>ALL</td>\n",
       "      <td>Graduate</td>\n",
       "      <td>Married</td>\n",
       "      <td>0.0</td>\n",
       "    </tr>\n",
       "    <tr>\n",
       "      <th>2</th>\n",
       "      <td>0.0</td>\n",
       "      <td>0.0</td>\n",
       "      <td>0.0</td>\n",
       "      <td>0.0</td>\n",
       "      <td>19.0</td>\n",
       "      <td>154.216667</td>\n",
       "      <td>0.015789</td>\n",
       "      <td>0.024561</td>\n",
       "      <td>0.0</td>\n",
       "      <td>0.0</td>\n",
       "      <td>...</td>\n",
       "      <td>2.0</td>\n",
       "      <td>2.0</td>\n",
       "      <td>1.0</td>\n",
       "      <td>3.0</td>\n",
       "      <td>Returning_Visitor</td>\n",
       "      <td>Female</td>\n",
       "      <td>Required</td>\n",
       "      <td>Diploma</td>\n",
       "      <td>Other</td>\n",
       "      <td>0.0</td>\n",
       "    </tr>\n",
       "    <tr>\n",
       "      <th>3</th>\n",
       "      <td>0.0</td>\n",
       "      <td>0.0</td>\n",
       "      <td>0.0</td>\n",
       "      <td>0.0</td>\n",
       "      <td>2.0</td>\n",
       "      <td>37.000000</td>\n",
       "      <td>0.000000</td>\n",
       "      <td>0.100000</td>\n",
       "      <td>0.0</td>\n",
       "      <td>0.8</td>\n",
       "      <td>...</td>\n",
       "      <td>2.0</td>\n",
       "      <td>2.0</td>\n",
       "      <td>2.0</td>\n",
       "      <td>3.0</td>\n",
       "      <td>Returning_Visitor</td>\n",
       "      <td>Not Specified</td>\n",
       "      <td>Required</td>\n",
       "      <td>Graduate</td>\n",
       "      <td>Other</td>\n",
       "      <td>0.0</td>\n",
       "    </tr>\n",
       "    <tr>\n",
       "      <th>4</th>\n",
       "      <td>0.0</td>\n",
       "      <td>0.0</td>\n",
       "      <td>0.0</td>\n",
       "      <td>0.0</td>\n",
       "      <td>16.0</td>\n",
       "      <td>407.750000</td>\n",
       "      <td>0.018750</td>\n",
       "      <td>0.025833</td>\n",
       "      <td>0.0</td>\n",
       "      <td>0.4</td>\n",
       "      <td>...</td>\n",
       "      <td>1.0</td>\n",
       "      <td>1.0</td>\n",
       "      <td>4.0</td>\n",
       "      <td>3.0</td>\n",
       "      <td>Returning_Visitor</td>\n",
       "      <td>Female</td>\n",
       "      <td>Deny</td>\n",
       "      <td>Others</td>\n",
       "      <td>Other</td>\n",
       "      <td>0.0</td>\n",
       "    </tr>\n",
       "  </tbody>\n",
       "</table>\n",
       "<p>5 rows × 21 columns</p>\n",
       "</div>"
      ],
      "text/plain": [
       "   HomePage  HomePage_Duration  LandingPage  LandingPage_Duration  \\\n",
       "0       0.0                0.0          0.0                   0.0   \n",
       "1       0.0                0.0          0.0                   0.0   \n",
       "2       0.0                0.0          0.0                   0.0   \n",
       "3       0.0                0.0          0.0                   0.0   \n",
       "4       0.0                0.0          0.0                   0.0   \n",
       "\n",
       "   ProductDescriptionPage  ProductDescriptionPage_Duration  \\\n",
       "0                     1.0                         0.000000   \n",
       "1                     2.0                        64.000000   \n",
       "2                    19.0                       154.216667   \n",
       "3                     2.0                        37.000000   \n",
       "4                    16.0                       407.750000   \n",
       "\n",
       "   GoogleMetric:Bounce Rates  GoogleMetric:Exit Rates  \\\n",
       "0                   0.200000                 0.200000   \n",
       "1                   0.000000                 0.100000   \n",
       "2                   0.015789                 0.024561   \n",
       "3                   0.000000                 0.100000   \n",
       "4                   0.018750                 0.025833   \n",
       "\n",
       "   GoogleMetric:Page Values  SeasonalPurchase  ...   OS  SearchEngine  Zone  \\\n",
       "0                       0.0               0.0  ...  1.0           1.0   1.0   \n",
       "1                       0.0               0.0  ...  2.0           2.0   1.0   \n",
       "2                       0.0               0.0  ...  2.0           2.0   1.0   \n",
       "3                       0.0               0.8  ...  2.0           2.0   2.0   \n",
       "4                       0.0               0.4  ...  1.0           1.0   4.0   \n",
       "\n",
       "   Type of Traffic       CustomerType         Gender Cookies Setting  \\\n",
       "0              1.0  Returning_Visitor  Not Specified            Deny   \n",
       "1              2.0  Returning_Visitor  Not Specified             ALL   \n",
       "2              3.0  Returning_Visitor         Female        Required   \n",
       "3              3.0  Returning_Visitor  Not Specified        Required   \n",
       "4              3.0  Returning_Visitor         Female            Deny   \n",
       "\n",
       "       Education Marital Status WeekendPurchase  \n",
       "0  Not Specified         Single             0.0  \n",
       "1       Graduate        Married             0.0  \n",
       "2        Diploma          Other             0.0  \n",
       "3       Graduate          Other             0.0  \n",
       "4         Others          Other             0.0  \n",
       "\n",
       "[5 rows x 21 columns]"
      ]
     },
     "execution_count": 55,
     "metadata": {},
     "output_type": "execute_result"
    }
   ],
   "source": [
    "df_test.head()"
   ]
  },
  {
   "cell_type": "code",
   "execution_count": 56,
   "id": "74811833",
   "metadata": {
    "execution": {
     "iopub.execute_input": "2023-03-31T19:10:13.433426Z",
     "iopub.status.busy": "2023-03-31T19:10:13.432930Z",
     "iopub.status.idle": "2023-03-31T19:10:13.440081Z",
     "shell.execute_reply": "2023-03-31T19:10:13.439052Z"
    },
    "papermill": {
     "duration": 0.050932,
     "end_time": "2023-03-31T19:10:13.442462",
     "exception": false,
     "start_time": "2023-03-31T19:10:13.391530",
     "status": "completed"
    },
    "tags": []
   },
   "outputs": [
    {
     "data": {
      "text/plain": [
       "(6599, 21)"
      ]
     },
     "execution_count": 56,
     "metadata": {},
     "output_type": "execute_result"
    }
   ],
   "source": [
    "df_test.shape"
   ]
  },
  {
   "cell_type": "code",
   "execution_count": 57,
   "id": "80d78d4a",
   "metadata": {
    "execution": {
     "iopub.execute_input": "2023-03-31T19:10:13.523917Z",
     "iopub.status.busy": "2023-03-31T19:10:13.523435Z",
     "iopub.status.idle": "2023-03-31T19:10:13.540381Z",
     "shell.execute_reply": "2023-03-31T19:10:13.539076Z"
    },
    "papermill": {
     "duration": 0.060689,
     "end_time": "2023-03-31T19:10:13.542992",
     "exception": false,
     "start_time": "2023-03-31T19:10:13.482303",
     "status": "completed"
    },
    "tags": []
   },
   "outputs": [
    {
     "name": "stdout",
     "output_type": "stream",
     "text": [
      "<class 'pandas.core.frame.DataFrame'>\n",
      "RangeIndex: 6599 entries, 0 to 6598\n",
      "Data columns (total 21 columns):\n",
      " #   Column                           Non-Null Count  Dtype  \n",
      "---  ------                           --------------  -----  \n",
      " 0   HomePage                         6548 non-null   float64\n",
      " 1   HomePage_Duration                6544 non-null   float64\n",
      " 2   LandingPage                      6543 non-null   float64\n",
      " 3   LandingPage_Duration             6524 non-null   float64\n",
      " 4   ProductDescriptionPage           6541 non-null   float64\n",
      " 5   ProductDescriptionPage_Duration  6536 non-null   float64\n",
      " 6   GoogleMetric:Bounce Rates        6533 non-null   float64\n",
      " 7   GoogleMetric:Exit Rates          6548 non-null   float64\n",
      " 8   GoogleMetric:Page Values         6554 non-null   float64\n",
      " 9   SeasonalPurchase                 6554 non-null   float64\n",
      " 10  Month_SeasonalPurchase           6541 non-null   object \n",
      " 11  OS                               6537 non-null   float64\n",
      " 12  SearchEngine                     6541 non-null   float64\n",
      " 13  Zone                             6552 non-null   float64\n",
      " 14  Type of Traffic                  6531 non-null   float64\n",
      " 15  CustomerType                     6511 non-null   object \n",
      " 16  Gender                           6535 non-null   object \n",
      " 17  Cookies Setting                  6537 non-null   object \n",
      " 18  Education                        6530 non-null   object \n",
      " 19  Marital Status                   6552 non-null   object \n",
      " 20  WeekendPurchase                  6541 non-null   float64\n",
      "dtypes: float64(15), object(6)\n",
      "memory usage: 1.1+ MB\n"
     ]
    }
   ],
   "source": [
    "df_test.info()"
   ]
  },
  {
   "cell_type": "markdown",
   "id": "16ef3752",
   "metadata": {
    "papermill": {
     "duration": 0.038696,
     "end_time": "2023-03-31T19:10:13.621293",
     "exception": false,
     "start_time": "2023-03-31T19:10:13.582597",
     "status": "completed"
    },
    "tags": []
   },
   "source": [
    "# Encoding of Categorical Features of Test Data"
   ]
  },
  {
   "cell_type": "code",
   "execution_count": 58,
   "id": "1e7998b2",
   "metadata": {
    "execution": {
     "iopub.execute_input": "2023-03-31T19:10:13.703210Z",
     "iopub.status.busy": "2023-03-31T19:10:13.702753Z",
     "iopub.status.idle": "2023-03-31T19:10:13.740285Z",
     "shell.execute_reply": "2023-03-31T19:10:13.738284Z"
    },
    "papermill": {
     "duration": 0.082257,
     "end_time": "2023-03-31T19:10:13.743443",
     "exception": false,
     "start_time": "2023-03-31T19:10:13.661186",
     "status": "completed"
    },
    "tags": []
   },
   "outputs": [
    {
     "name": "stdout",
     "output_type": "stream",
     "text": [
      "<class 'pandas.core.frame.DataFrame'>\n",
      "RangeIndex: 6599 entries, 0 to 6598\n",
      "Data columns (total 21 columns):\n",
      " #   Column                           Non-Null Count  Dtype  \n",
      "---  ------                           --------------  -----  \n",
      " 0   HomePage                         6548 non-null   float64\n",
      " 1   HomePage_Duration                6544 non-null   float64\n",
      " 2   LandingPage                      6543 non-null   float64\n",
      " 3   LandingPage_Duration             6524 non-null   float64\n",
      " 4   ProductDescriptionPage           6541 non-null   float64\n",
      " 5   ProductDescriptionPage_Duration  6536 non-null   float64\n",
      " 6   GoogleMetric:Bounce Rates        6533 non-null   float64\n",
      " 7   GoogleMetric:Exit Rates          6548 non-null   float64\n",
      " 8   GoogleMetric:Page Values         6554 non-null   float64\n",
      " 9   SeasonalPurchase                 6554 non-null   float64\n",
      " 10  Month_SeasonalPurchase           6541 non-null   float64\n",
      " 11  OS                               6537 non-null   float64\n",
      " 12  SearchEngine                     6541 non-null   float64\n",
      " 13  Zone                             6552 non-null   float64\n",
      " 14  Type of Traffic                  6531 non-null   float64\n",
      " 15  CustomerType                     6599 non-null   float64\n",
      " 16  Gender                           6599 non-null   float64\n",
      " 17  Cookies Setting                  6599 non-null   float64\n",
      " 18  Education                        6599 non-null   float64\n",
      " 19  Marital Status                   6599 non-null   float64\n",
      " 20  WeekendPurchase                  6541 non-null   float64\n",
      "dtypes: float64(21)\n",
      "memory usage: 1.1 MB\n"
     ]
    }
   ],
   "source": [
    "oenc=OrdinalEncoder(categories='auto')\n",
    "df_test['Month_SeasonalPurchase']=oenc.fit_transform(df_test['Month_SeasonalPurchase'].values.reshape(-1,1))\n",
    "\n",
    "ohe=OneHotEncoder(categories='auto', handle_unknown='ignore', sparse=False)\n",
    "df_test['Gender']=ohe.fit_transform(df_test['Gender'].values.reshape(-1,1))\n",
    "df_test['Marital Status']=ohe.fit_transform(df_test['Marital Status'].values.reshape(-1,1))\n",
    "df_test['Education']=ohe.fit_transform(df_test['Education'].values.reshape(-1,1)) \n",
    "df_test['CustomerType']=ohe.fit_transform(df_test['CustomerType'].values.reshape(-1,1))\n",
    "df_test['Cookies Setting']=ohe.fit_transform(df_test['Cookies Setting'].values.reshape(-1,1))\n",
    "\n",
    "\n",
    "df_test.info()"
   ]
  },
  {
   "cell_type": "markdown",
   "id": "acc7a5ac",
   "metadata": {
    "papermill": {
     "duration": 0.039232,
     "end_time": "2023-03-31T19:10:13.822009",
     "exception": false,
     "start_time": "2023-03-31T19:10:13.782777",
     "status": "completed"
    },
    "tags": []
   },
   "source": [
    "# Checking Null Values of Test Data"
   ]
  },
  {
   "cell_type": "code",
   "execution_count": 59,
   "id": "49e7cc85",
   "metadata": {
    "execution": {
     "iopub.execute_input": "2023-03-31T19:10:13.903958Z",
     "iopub.status.busy": "2023-03-31T19:10:13.902916Z",
     "iopub.status.idle": "2023-03-31T19:10:13.915320Z",
     "shell.execute_reply": "2023-03-31T19:10:13.913870Z"
    },
    "papermill": {
     "duration": 0.056415,
     "end_time": "2023-03-31T19:10:13.918117",
     "exception": false,
     "start_time": "2023-03-31T19:10:13.861702",
     "status": "completed"
    },
    "tags": []
   },
   "outputs": [
    {
     "data": {
      "text/plain": [
       "HomePage                           51\n",
       "HomePage_Duration                  55\n",
       "LandingPage                        56\n",
       "LandingPage_Duration               75\n",
       "ProductDescriptionPage             58\n",
       "ProductDescriptionPage_Duration    63\n",
       "GoogleMetric:Bounce Rates          66\n",
       "GoogleMetric:Exit Rates            51\n",
       "GoogleMetric:Page Values           45\n",
       "SeasonalPurchase                   45\n",
       "Month_SeasonalPurchase             58\n",
       "OS                                 62\n",
       "SearchEngine                       58\n",
       "Zone                               47\n",
       "Type of Traffic                    68\n",
       "CustomerType                        0\n",
       "Gender                              0\n",
       "Cookies Setting                     0\n",
       "Education                           0\n",
       "Marital Status                      0\n",
       "WeekendPurchase                    58\n",
       "dtype: int64"
      ]
     },
     "execution_count": 59,
     "metadata": {},
     "output_type": "execute_result"
    }
   ],
   "source": [
    "df_test.isnull().sum()"
   ]
  },
  {
   "cell_type": "markdown",
   "id": "f43e3bdf",
   "metadata": {
    "papermill": {
     "duration": 0.039259,
     "end_time": "2023-03-31T19:10:13.996985",
     "exception": false,
     "start_time": "2023-03-31T19:10:13.957726",
     "status": "completed"
    },
    "tags": []
   },
   "source": [
    "# Replacing Null Values of Test Data"
   ]
  },
  {
   "cell_type": "code",
   "execution_count": 60,
   "id": "afcc71e0",
   "metadata": {
    "execution": {
     "iopub.execute_input": "2023-03-31T19:10:14.079217Z",
     "iopub.status.busy": "2023-03-31T19:10:14.077824Z",
     "iopub.status.idle": "2023-03-31T19:10:14.084596Z",
     "shell.execute_reply": "2023-03-31T19:10:14.083594Z"
    },
    "papermill": {
     "duration": 0.05032,
     "end_time": "2023-03-31T19:10:14.087216",
     "exception": false,
     "start_time": "2023-03-31T19:10:14.036896",
     "status": "completed"
    },
    "tags": []
   },
   "outputs": [],
   "source": [
    "df_test.replace('?', np.nan, inplace=True)"
   ]
  },
  {
   "cell_type": "markdown",
   "id": "4141a541",
   "metadata": {
    "papermill": {
     "duration": 0.039249,
     "end_time": "2023-03-31T19:10:14.167446",
     "exception": false,
     "start_time": "2023-03-31T19:10:14.128197",
     "status": "completed"
    },
    "tags": []
   },
   "source": [
    "# Imputation of Test Data"
   ]
  },
  {
   "cell_type": "code",
   "execution_count": 61,
   "id": "7df15d39",
   "metadata": {
    "execution": {
     "iopub.execute_input": "2023-03-31T19:10:14.247650Z",
     "iopub.status.busy": "2023-03-31T19:10:14.247167Z",
     "iopub.status.idle": "2023-03-31T19:10:14.256659Z",
     "shell.execute_reply": "2023-03-31T19:10:14.255360Z"
    },
    "papermill": {
     "duration": 0.052917,
     "end_time": "2023-03-31T19:10:14.259583",
     "exception": false,
     "start_time": "2023-03-31T19:10:14.206666",
     "status": "completed"
    },
    "tags": []
   },
   "outputs": [],
   "source": [
    "df_test_new=si.transform(df_test)"
   ]
  },
  {
   "cell_type": "code",
   "execution_count": 62,
   "id": "8f71e3ad",
   "metadata": {
    "execution": {
     "iopub.execute_input": "2023-03-31T19:10:14.342007Z",
     "iopub.status.busy": "2023-03-31T19:10:14.341219Z",
     "iopub.status.idle": "2023-03-31T19:10:14.346398Z",
     "shell.execute_reply": "2023-03-31T19:10:14.345400Z"
    },
    "papermill": {
     "duration": 0.049705,
     "end_time": "2023-03-31T19:10:14.348923",
     "exception": false,
     "start_time": "2023-03-31T19:10:14.299218",
     "status": "completed"
    },
    "tags": []
   },
   "outputs": [],
   "source": [
    "df_test_new=pd.DataFrame(df_test_new, columns=df_test.columns)"
   ]
  },
  {
   "cell_type": "code",
   "execution_count": 63,
   "id": "3cf4483e",
   "metadata": {
    "execution": {
     "iopub.execute_input": "2023-03-31T19:10:14.431183Z",
     "iopub.status.busy": "2023-03-31T19:10:14.429996Z",
     "iopub.status.idle": "2023-03-31T19:10:14.439912Z",
     "shell.execute_reply": "2023-03-31T19:10:14.439032Z"
    },
    "papermill": {
     "duration": 0.053647,
     "end_time": "2023-03-31T19:10:14.442178",
     "exception": false,
     "start_time": "2023-03-31T19:10:14.388531",
     "status": "completed"
    },
    "tags": []
   },
   "outputs": [
    {
     "data": {
      "text/plain": [
       "HomePage                           0\n",
       "HomePage_Duration                  0\n",
       "LandingPage                        0\n",
       "LandingPage_Duration               0\n",
       "ProductDescriptionPage             0\n",
       "ProductDescriptionPage_Duration    0\n",
       "GoogleMetric:Bounce Rates          0\n",
       "GoogleMetric:Exit Rates            0\n",
       "GoogleMetric:Page Values           0\n",
       "SeasonalPurchase                   0\n",
       "Month_SeasonalPurchase             0\n",
       "OS                                 0\n",
       "SearchEngine                       0\n",
       "Zone                               0\n",
       "Type of Traffic                    0\n",
       "CustomerType                       0\n",
       "Gender                             0\n",
       "Cookies Setting                    0\n",
       "Education                          0\n",
       "Marital Status                     0\n",
       "WeekendPurchase                    0\n",
       "dtype: int64"
      ]
     },
     "execution_count": 63,
     "metadata": {},
     "output_type": "execute_result"
    }
   ],
   "source": [
    "df_test_new.isnull().sum()"
   ]
  },
  {
   "cell_type": "code",
   "execution_count": 64,
   "id": "61af207d",
   "metadata": {
    "execution": {
     "iopub.execute_input": "2023-03-31T19:10:14.525497Z",
     "iopub.status.busy": "2023-03-31T19:10:14.524252Z",
     "iopub.status.idle": "2023-03-31T19:10:14.531830Z",
     "shell.execute_reply": "2023-03-31T19:10:14.530616Z"
    },
    "papermill": {
     "duration": 0.051674,
     "end_time": "2023-03-31T19:10:14.534338",
     "exception": false,
     "start_time": "2023-03-31T19:10:14.482664",
     "status": "completed"
    },
    "tags": []
   },
   "outputs": [
    {
     "data": {
      "text/plain": [
       "array(['GoogleMetric:Bounce Rates', 'GoogleMetric:Exit Rates',\n",
       "       'GoogleMetric:Page Values', 'OS', 'SearchEngine',\n",
       "       'Type of Traffic', 'CustomerType', 'Education', 'Marital Status',\n",
       "       'WeekendPurchase'], dtype=object)"
      ]
     },
     "execution_count": 64,
     "metadata": {},
     "output_type": "execute_result"
    }
   ],
   "source": [
    "feature_names_out"
   ]
  },
  {
   "cell_type": "code",
   "execution_count": 65,
   "id": "15a1939a",
   "metadata": {
    "execution": {
     "iopub.execute_input": "2023-03-31T19:10:14.618650Z",
     "iopub.status.busy": "2023-03-31T19:10:14.618245Z",
     "iopub.status.idle": "2023-03-31T19:10:14.624470Z",
     "shell.execute_reply": "2023-03-31T19:10:14.623180Z"
    },
    "papermill": {
     "duration": 0.05196,
     "end_time": "2023-03-31T19:10:14.627710",
     "exception": false,
     "start_time": "2023-03-31T19:10:14.575750",
     "status": "completed"
    },
    "tags": []
   },
   "outputs": [],
   "source": [
    "df_test_final=df_test_new.loc[:,list(feature_names_out)]"
   ]
  },
  {
   "cell_type": "code",
   "execution_count": 66,
   "id": "8a369c40",
   "metadata": {
    "execution": {
     "iopub.execute_input": "2023-03-31T19:10:14.711430Z",
     "iopub.status.busy": "2023-03-31T19:10:14.710960Z",
     "iopub.status.idle": "2023-03-31T19:10:14.731073Z",
     "shell.execute_reply": "2023-03-31T19:10:14.729979Z"
    },
    "papermill": {
     "duration": 0.065157,
     "end_time": "2023-03-31T19:10:14.733634",
     "exception": false,
     "start_time": "2023-03-31T19:10:14.668477",
     "status": "completed"
    },
    "tags": []
   },
   "outputs": [
    {
     "data": {
      "text/html": [
       "<div>\n",
       "<style scoped>\n",
       "    .dataframe tbody tr th:only-of-type {\n",
       "        vertical-align: middle;\n",
       "    }\n",
       "\n",
       "    .dataframe tbody tr th {\n",
       "        vertical-align: top;\n",
       "    }\n",
       "\n",
       "    .dataframe thead th {\n",
       "        text-align: right;\n",
       "    }\n",
       "</style>\n",
       "<table border=\"1\" class=\"dataframe\">\n",
       "  <thead>\n",
       "    <tr style=\"text-align: right;\">\n",
       "      <th></th>\n",
       "      <th>GoogleMetric:Bounce Rates</th>\n",
       "      <th>GoogleMetric:Exit Rates</th>\n",
       "      <th>GoogleMetric:Page Values</th>\n",
       "      <th>OS</th>\n",
       "      <th>SearchEngine</th>\n",
       "      <th>Type of Traffic</th>\n",
       "      <th>CustomerType</th>\n",
       "      <th>Education</th>\n",
       "      <th>Marital Status</th>\n",
       "      <th>WeekendPurchase</th>\n",
       "    </tr>\n",
       "  </thead>\n",
       "  <tbody>\n",
       "    <tr>\n",
       "      <th>0</th>\n",
       "      <td>0.200000</td>\n",
       "      <td>0.200000</td>\n",
       "      <td>0.0</td>\n",
       "      <td>1.0</td>\n",
       "      <td>1.0</td>\n",
       "      <td>1.0</td>\n",
       "      <td>0.0</td>\n",
       "      <td>0.0</td>\n",
       "      <td>0.0</td>\n",
       "      <td>0.0</td>\n",
       "    </tr>\n",
       "    <tr>\n",
       "      <th>1</th>\n",
       "      <td>0.000000</td>\n",
       "      <td>0.100000</td>\n",
       "      <td>0.0</td>\n",
       "      <td>2.0</td>\n",
       "      <td>2.0</td>\n",
       "      <td>2.0</td>\n",
       "      <td>0.0</td>\n",
       "      <td>0.0</td>\n",
       "      <td>1.0</td>\n",
       "      <td>0.0</td>\n",
       "    </tr>\n",
       "    <tr>\n",
       "      <th>2</th>\n",
       "      <td>0.015789</td>\n",
       "      <td>0.024561</td>\n",
       "      <td>0.0</td>\n",
       "      <td>2.0</td>\n",
       "      <td>2.0</td>\n",
       "      <td>3.0</td>\n",
       "      <td>0.0</td>\n",
       "      <td>1.0</td>\n",
       "      <td>0.0</td>\n",
       "      <td>0.0</td>\n",
       "    </tr>\n",
       "    <tr>\n",
       "      <th>3</th>\n",
       "      <td>0.000000</td>\n",
       "      <td>0.100000</td>\n",
       "      <td>0.0</td>\n",
       "      <td>2.0</td>\n",
       "      <td>2.0</td>\n",
       "      <td>3.0</td>\n",
       "      <td>0.0</td>\n",
       "      <td>0.0</td>\n",
       "      <td>0.0</td>\n",
       "      <td>0.0</td>\n",
       "    </tr>\n",
       "    <tr>\n",
       "      <th>4</th>\n",
       "      <td>0.018750</td>\n",
       "      <td>0.025833</td>\n",
       "      <td>0.0</td>\n",
       "      <td>1.0</td>\n",
       "      <td>1.0</td>\n",
       "      <td>3.0</td>\n",
       "      <td>0.0</td>\n",
       "      <td>0.0</td>\n",
       "      <td>0.0</td>\n",
       "      <td>0.0</td>\n",
       "    </tr>\n",
       "  </tbody>\n",
       "</table>\n",
       "</div>"
      ],
      "text/plain": [
       "   GoogleMetric:Bounce Rates  GoogleMetric:Exit Rates  \\\n",
       "0                   0.200000                 0.200000   \n",
       "1                   0.000000                 0.100000   \n",
       "2                   0.015789                 0.024561   \n",
       "3                   0.000000                 0.100000   \n",
       "4                   0.018750                 0.025833   \n",
       "\n",
       "   GoogleMetric:Page Values   OS  SearchEngine  Type of Traffic  CustomerType  \\\n",
       "0                       0.0  1.0           1.0              1.0           0.0   \n",
       "1                       0.0  2.0           2.0              2.0           0.0   \n",
       "2                       0.0  2.0           2.0              3.0           0.0   \n",
       "3                       0.0  2.0           2.0              3.0           0.0   \n",
       "4                       0.0  1.0           1.0              3.0           0.0   \n",
       "\n",
       "   Education  Marital Status  WeekendPurchase  \n",
       "0        0.0             0.0              0.0  \n",
       "1        0.0             1.0              0.0  \n",
       "2        1.0             0.0              0.0  \n",
       "3        0.0             0.0              0.0  \n",
       "4        0.0             0.0              0.0  "
      ]
     },
     "execution_count": 66,
     "metadata": {},
     "output_type": "execute_result"
    }
   ],
   "source": [
    "df_test_final.head()"
   ]
  },
  {
   "cell_type": "code",
   "execution_count": 67,
   "id": "41f7fedd",
   "metadata": {
    "execution": {
     "iopub.execute_input": "2023-03-31T19:10:14.816964Z",
     "iopub.status.busy": "2023-03-31T19:10:14.816531Z",
     "iopub.status.idle": "2023-03-31T19:10:14.824741Z",
     "shell.execute_reply": "2023-03-31T19:10:14.823598Z"
    },
    "papermill": {
     "duration": 0.05357,
     "end_time": "2023-03-31T19:10:14.827277",
     "exception": false,
     "start_time": "2023-03-31T19:10:14.773707",
     "status": "completed"
    },
    "tags": []
   },
   "outputs": [],
   "source": [
    "df_test_final=ss.transform(df_test_final)"
   ]
  },
  {
   "cell_type": "code",
   "execution_count": 68,
   "id": "ada71fa8",
   "metadata": {
    "execution": {
     "iopub.execute_input": "2023-03-31T19:10:14.909491Z",
     "iopub.status.busy": "2023-03-31T19:10:14.909002Z",
     "iopub.status.idle": "2023-03-31T19:10:14.915154Z",
     "shell.execute_reply": "2023-03-31T19:10:14.913817Z"
    },
    "papermill": {
     "duration": 0.050253,
     "end_time": "2023-03-31T19:10:14.917592",
     "exception": false,
     "start_time": "2023-03-31T19:10:14.867339",
     "status": "completed"
    },
    "tags": []
   },
   "outputs": [],
   "source": [
    "df_test_final=pd.DataFrame(df_test_final, columns=list(feature_names_out))"
   ]
  },
  {
   "cell_type": "code",
   "execution_count": 69,
   "id": "1462de13",
   "metadata": {
    "execution": {
     "iopub.execute_input": "2023-03-31T19:10:15.000057Z",
     "iopub.status.busy": "2023-03-31T19:10:14.999590Z",
     "iopub.status.idle": "2023-03-31T19:10:15.009636Z",
     "shell.execute_reply": "2023-03-31T19:10:15.007615Z"
    },
    "papermill": {
     "duration": 0.059964,
     "end_time": "2023-03-31T19:10:15.017732",
     "exception": false,
     "start_time": "2023-03-31T19:10:14.957768",
     "status": "completed"
    },
    "tags": []
   },
   "outputs": [],
   "source": [
    "y_test_pred_1=lr_grid_search.predict(df_test_final)"
   ]
  },
  {
   "cell_type": "code",
   "execution_count": 70,
   "id": "9e577a39",
   "metadata": {
    "execution": {
     "iopub.execute_input": "2023-03-31T19:10:15.166918Z",
     "iopub.status.busy": "2023-03-31T19:10:15.166524Z",
     "iopub.status.idle": "2023-03-31T19:10:15.171781Z",
     "shell.execute_reply": "2023-03-31T19:10:15.170858Z"
    },
    "papermill": {
     "duration": 0.050666,
     "end_time": "2023-03-31T19:10:15.174336",
     "exception": false,
     "start_time": "2023-03-31T19:10:15.123670",
     "status": "completed"
    },
    "tags": []
   },
   "outputs": [],
   "source": [
    "final_df=pd.DataFrame()"
   ]
  },
  {
   "cell_type": "code",
   "execution_count": 71,
   "id": "5f3472fa",
   "metadata": {
    "execution": {
     "iopub.execute_input": "2023-03-31T19:10:15.258305Z",
     "iopub.status.busy": "2023-03-31T19:10:15.257275Z",
     "iopub.status.idle": "2023-03-31T19:10:15.265199Z",
     "shell.execute_reply": "2023-03-31T19:10:15.264013Z"
    },
    "papermill": {
     "duration": 0.053053,
     "end_time": "2023-03-31T19:10:15.267788",
     "exception": false,
     "start_time": "2023-03-31T19:10:15.214735",
     "status": "completed"
    },
    "tags": []
   },
   "outputs": [],
   "source": [
    "final_df['id']=np.arange(0,6599)"
   ]
  },
  {
   "cell_type": "code",
   "execution_count": 72,
   "id": "5da27a22",
   "metadata": {
    "execution": {
     "iopub.execute_input": "2023-03-31T19:10:15.352174Z",
     "iopub.status.busy": "2023-03-31T19:10:15.351302Z",
     "iopub.status.idle": "2023-03-31T19:10:15.357508Z",
     "shell.execute_reply": "2023-03-31T19:10:15.356243Z"
    },
    "papermill": {
     "duration": 0.051791,
     "end_time": "2023-03-31T19:10:15.360146",
     "exception": false,
     "start_time": "2023-03-31T19:10:15.308355",
     "status": "completed"
    },
    "tags": []
   },
   "outputs": [],
   "source": [
    "final_df['Made_Purchase']=y_test_pred_1"
   ]
  },
  {
   "cell_type": "code",
   "execution_count": 73,
   "id": "d5262592",
   "metadata": {
    "execution": {
     "iopub.execute_input": "2023-03-31T19:10:15.445295Z",
     "iopub.status.busy": "2023-03-31T19:10:15.444518Z",
     "iopub.status.idle": "2023-03-31T19:10:15.454391Z",
     "shell.execute_reply": "2023-03-31T19:10:15.453214Z"
    },
    "papermill": {
     "duration": 0.055565,
     "end_time": "2023-03-31T19:10:15.456758",
     "exception": false,
     "start_time": "2023-03-31T19:10:15.401193",
     "status": "completed"
    },
    "tags": []
   },
   "outputs": [
    {
     "data": {
      "text/html": [
       "<div>\n",
       "<style scoped>\n",
       "    .dataframe tbody tr th:only-of-type {\n",
       "        vertical-align: middle;\n",
       "    }\n",
       "\n",
       "    .dataframe tbody tr th {\n",
       "        vertical-align: top;\n",
       "    }\n",
       "\n",
       "    .dataframe thead th {\n",
       "        text-align: right;\n",
       "    }\n",
       "</style>\n",
       "<table border=\"1\" class=\"dataframe\">\n",
       "  <thead>\n",
       "    <tr style=\"text-align: right;\">\n",
       "      <th></th>\n",
       "      <th>id</th>\n",
       "      <th>Made_Purchase</th>\n",
       "    </tr>\n",
       "  </thead>\n",
       "  <tbody>\n",
       "    <tr>\n",
       "      <th>0</th>\n",
       "      <td>0</td>\n",
       "      <td>0</td>\n",
       "    </tr>\n",
       "    <tr>\n",
       "      <th>1</th>\n",
       "      <td>1</td>\n",
       "      <td>0</td>\n",
       "    </tr>\n",
       "    <tr>\n",
       "      <th>2</th>\n",
       "      <td>2</td>\n",
       "      <td>0</td>\n",
       "    </tr>\n",
       "    <tr>\n",
       "      <th>3</th>\n",
       "      <td>3</td>\n",
       "      <td>0</td>\n",
       "    </tr>\n",
       "    <tr>\n",
       "      <th>4</th>\n",
       "      <td>4</td>\n",
       "      <td>0</td>\n",
       "    </tr>\n",
       "  </tbody>\n",
       "</table>\n",
       "</div>"
      ],
      "text/plain": [
       "   id  Made_Purchase\n",
       "0   0              0\n",
       "1   1              0\n",
       "2   2              0\n",
       "3   3              0\n",
       "4   4              0"
      ]
     },
     "execution_count": 73,
     "metadata": {},
     "output_type": "execute_result"
    }
   ],
   "source": [
    "final_df.head()"
   ]
  },
  {
   "cell_type": "code",
   "execution_count": 74,
   "id": "cb1f060d",
   "metadata": {
    "execution": {
     "iopub.execute_input": "2023-03-31T19:10:15.543539Z",
     "iopub.status.busy": "2023-03-31T19:10:15.542686Z",
     "iopub.status.idle": "2023-03-31T19:10:15.548927Z",
     "shell.execute_reply": "2023-03-31T19:10:15.547463Z"
    },
    "papermill": {
     "duration": 0.052986,
     "end_time": "2023-03-31T19:10:15.551848",
     "exception": false,
     "start_time": "2023-03-31T19:10:15.498862",
     "status": "completed"
    },
    "tags": []
   },
   "outputs": [],
   "source": [
    "final_df['Made_Purchase']=final_df['Made_Purchase'].astype('bool')"
   ]
  },
  {
   "cell_type": "code",
   "execution_count": 75,
   "id": "1524a3e8",
   "metadata": {
    "execution": {
     "iopub.execute_input": "2023-03-31T19:10:15.635024Z",
     "iopub.status.busy": "2023-03-31T19:10:15.634567Z",
     "iopub.status.idle": "2023-03-31T19:10:15.645538Z",
     "shell.execute_reply": "2023-03-31T19:10:15.644297Z"
    },
    "papermill": {
     "duration": 0.055644,
     "end_time": "2023-03-31T19:10:15.648069",
     "exception": false,
     "start_time": "2023-03-31T19:10:15.592425",
     "status": "completed"
    },
    "tags": []
   },
   "outputs": [
    {
     "data": {
      "text/html": [
       "<div>\n",
       "<style scoped>\n",
       "    .dataframe tbody tr th:only-of-type {\n",
       "        vertical-align: middle;\n",
       "    }\n",
       "\n",
       "    .dataframe tbody tr th {\n",
       "        vertical-align: top;\n",
       "    }\n",
       "\n",
       "    .dataframe thead th {\n",
       "        text-align: right;\n",
       "    }\n",
       "</style>\n",
       "<table border=\"1\" class=\"dataframe\">\n",
       "  <thead>\n",
       "    <tr style=\"text-align: right;\">\n",
       "      <th></th>\n",
       "      <th>id</th>\n",
       "      <th>Made_Purchase</th>\n",
       "    </tr>\n",
       "  </thead>\n",
       "  <tbody>\n",
       "    <tr>\n",
       "      <th>0</th>\n",
       "      <td>0</td>\n",
       "      <td>False</td>\n",
       "    </tr>\n",
       "    <tr>\n",
       "      <th>1</th>\n",
       "      <td>1</td>\n",
       "      <td>False</td>\n",
       "    </tr>\n",
       "    <tr>\n",
       "      <th>2</th>\n",
       "      <td>2</td>\n",
       "      <td>False</td>\n",
       "    </tr>\n",
       "    <tr>\n",
       "      <th>3</th>\n",
       "      <td>3</td>\n",
       "      <td>False</td>\n",
       "    </tr>\n",
       "    <tr>\n",
       "      <th>4</th>\n",
       "      <td>4</td>\n",
       "      <td>False</td>\n",
       "    </tr>\n",
       "  </tbody>\n",
       "</table>\n",
       "</div>"
      ],
      "text/plain": [
       "   id  Made_Purchase\n",
       "0   0          False\n",
       "1   1          False\n",
       "2   2          False\n",
       "3   3          False\n",
       "4   4          False"
      ]
     },
     "execution_count": 75,
     "metadata": {},
     "output_type": "execute_result"
    }
   ],
   "source": [
    "final_df.head()"
   ]
  },
  {
   "cell_type": "code",
   "execution_count": 76,
   "id": "36afc552",
   "metadata": {
    "execution": {
     "iopub.execute_input": "2023-03-31T19:10:15.731939Z",
     "iopub.status.busy": "2023-03-31T19:10:15.731484Z",
     "iopub.status.idle": "2023-03-31T19:10:15.746497Z",
     "shell.execute_reply": "2023-03-31T19:10:15.745285Z"
    },
    "papermill": {
     "duration": 0.06045,
     "end_time": "2023-03-31T19:10:15.748909",
     "exception": false,
     "start_time": "2023-03-31T19:10:15.688459",
     "status": "completed"
    },
    "tags": []
   },
   "outputs": [
    {
     "data": {
      "text/plain": [
       "(array([0, True, 2, ..., 6596, 6597, 6598], dtype=object),\n",
       " array([5580, 1021,    1, ...,    1,    1,    1]))"
      ]
     },
     "execution_count": 76,
     "metadata": {},
     "output_type": "execute_result"
    }
   ],
   "source": [
    "np.unique(final_df,return_counts=True)"
   ]
  },
  {
   "cell_type": "code",
   "execution_count": 77,
   "id": "fcb88d67",
   "metadata": {
    "execution": {
     "iopub.execute_input": "2023-03-31T19:10:15.834121Z",
     "iopub.status.busy": "2023-03-31T19:10:15.833633Z",
     "iopub.status.idle": "2023-03-31T19:10:15.851384Z",
     "shell.execute_reply": "2023-03-31T19:10:15.849921Z"
    },
    "papermill": {
     "duration": 0.064118,
     "end_time": "2023-03-31T19:10:15.854476",
     "exception": false,
     "start_time": "2023-03-31T19:10:15.790358",
     "status": "completed"
    },
    "tags": []
   },
   "outputs": [],
   "source": [
    "final_df.to_csv('submission.csv', index=False)"
   ]
  },
  {
   "cell_type": "code",
   "execution_count": 78,
   "id": "8f03ad1d",
   "metadata": {
    "execution": {
     "iopub.execute_input": "2023-03-31T19:10:15.939054Z",
     "iopub.status.busy": "2023-03-31T19:10:15.938577Z",
     "iopub.status.idle": "2023-03-31T19:10:15.951865Z",
     "shell.execute_reply": "2023-03-31T19:10:15.950446Z"
    },
    "papermill": {
     "duration": 0.058339,
     "end_time": "2023-03-31T19:10:15.954593",
     "exception": false,
     "start_time": "2023-03-31T19:10:15.896254",
     "status": "completed"
    },
    "tags": []
   },
   "outputs": [
    {
     "data": {
      "text/html": [
       "<div>\n",
       "<style scoped>\n",
       "    .dataframe tbody tr th:only-of-type {\n",
       "        vertical-align: middle;\n",
       "    }\n",
       "\n",
       "    .dataframe tbody tr th {\n",
       "        vertical-align: top;\n",
       "    }\n",
       "\n",
       "    .dataframe thead th {\n",
       "        text-align: right;\n",
       "    }\n",
       "</style>\n",
       "<table border=\"1\" class=\"dataframe\">\n",
       "  <thead>\n",
       "    <tr style=\"text-align: right;\">\n",
       "      <th></th>\n",
       "      <th>id</th>\n",
       "      <th>Made_Purchase</th>\n",
       "    </tr>\n",
       "  </thead>\n",
       "  <tbody>\n",
       "    <tr>\n",
       "      <th>0</th>\n",
       "      <td>0</td>\n",
       "      <td>False</td>\n",
       "    </tr>\n",
       "    <tr>\n",
       "      <th>1</th>\n",
       "      <td>1</td>\n",
       "      <td>False</td>\n",
       "    </tr>\n",
       "    <tr>\n",
       "      <th>2</th>\n",
       "      <td>2</td>\n",
       "      <td>False</td>\n",
       "    </tr>\n",
       "    <tr>\n",
       "      <th>3</th>\n",
       "      <td>3</td>\n",
       "      <td>False</td>\n",
       "    </tr>\n",
       "    <tr>\n",
       "      <th>4</th>\n",
       "      <td>4</td>\n",
       "      <td>False</td>\n",
       "    </tr>\n",
       "    <tr>\n",
       "      <th>...</th>\n",
       "      <td>...</td>\n",
       "      <td>...</td>\n",
       "    </tr>\n",
       "    <tr>\n",
       "      <th>6594</th>\n",
       "      <td>6594</td>\n",
       "      <td>False</td>\n",
       "    </tr>\n",
       "    <tr>\n",
       "      <th>6595</th>\n",
       "      <td>6595</td>\n",
       "      <td>False</td>\n",
       "    </tr>\n",
       "    <tr>\n",
       "      <th>6596</th>\n",
       "      <td>6596</td>\n",
       "      <td>False</td>\n",
       "    </tr>\n",
       "    <tr>\n",
       "      <th>6597</th>\n",
       "      <td>6597</td>\n",
       "      <td>False</td>\n",
       "    </tr>\n",
       "    <tr>\n",
       "      <th>6598</th>\n",
       "      <td>6598</td>\n",
       "      <td>False</td>\n",
       "    </tr>\n",
       "  </tbody>\n",
       "</table>\n",
       "<p>6599 rows × 2 columns</p>\n",
       "</div>"
      ],
      "text/plain": [
       "        id  Made_Purchase\n",
       "0        0          False\n",
       "1        1          False\n",
       "2        2          False\n",
       "3        3          False\n",
       "4        4          False\n",
       "...    ...            ...\n",
       "6594  6594          False\n",
       "6595  6595          False\n",
       "6596  6596          False\n",
       "6597  6597          False\n",
       "6598  6598          False\n",
       "\n",
       "[6599 rows x 2 columns]"
      ]
     },
     "execution_count": 78,
     "metadata": {},
     "output_type": "execute_result"
    }
   ],
   "source": [
    "final_df"
   ]
  }
 ],
 "metadata": {
  "kernelspec": {
   "display_name": "Python 3",
   "language": "python",
   "name": "python3"
  },
  "language_info": {
   "codemirror_mode": {
    "name": "ipython",
    "version": 3
   },
   "file_extension": ".py",
   "mimetype": "text/x-python",
   "name": "python",
   "nbconvert_exporter": "python",
   "pygments_lexer": "ipython3",
   "version": "3.7.12"
  },
  "papermill": {
   "default_parameters": {},
   "duration": 164.410103,
   "end_time": "2023-03-31T19:10:16.922947",
   "environment_variables": {},
   "exception": null,
   "input_path": "__notebook__.ipynb",
   "output_path": "__notebook__.ipynb",
   "parameters": {},
   "start_time": "2023-03-31T19:07:32.512844",
   "version": "2.4.0"
  }
 },
 "nbformat": 4,
 "nbformat_minor": 5
}
